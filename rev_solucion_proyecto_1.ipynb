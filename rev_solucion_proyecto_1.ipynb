{
  "cells": [
    {
      "cell_type": "code",
      "execution_count": 1,
      "metadata": {
        "colab": {
          "base_uri": "https://localhost:8080/"
        },
        "id": "gYPQJ83_fjoC",
        "outputId": "baaea3cf-9c28-49dd-9855-9b1c55c675c5"
      },
      "outputs": [
        {
          "name": "stdout",
          "output_type": "stream",
          "text": [
            "Requirement already satisfied: boto3 in ./venv/lib/python3.9/site-packages (1.35.44)\n",
            "Requirement already satisfied: botocore<1.36.0,>=1.35.44 in ./venv/lib/python3.9/site-packages (from boto3) (1.35.44)\n",
            "Requirement already satisfied: jmespath<2.0.0,>=0.7.1 in ./venv/lib/python3.9/site-packages (from boto3) (1.0.1)\n",
            "Requirement already satisfied: s3transfer<0.11.0,>=0.10.0 in ./venv/lib/python3.9/site-packages (from boto3) (0.10.3)\n",
            "Requirement already satisfied: python-dateutil<3.0.0,>=2.1 in ./venv/lib/python3.9/site-packages (from botocore<1.36.0,>=1.35.44->boto3) (2.9.0.post0)\n",
            "Requirement already satisfied: urllib3<1.27,>=1.25.4 in ./venv/lib/python3.9/site-packages (from botocore<1.36.0,>=1.35.44->boto3) (1.26.20)\n",
            "Requirement already satisfied: six>=1.5 in ./venv/lib/python3.9/site-packages (from python-dateutil<3.0.0,>=2.1->botocore<1.36.0,>=1.35.44->boto3) (1.16.0)\n",
            "\u001b[31mERROR: Could not find a version that satisfies the requirement pickle (from versions: none)\u001b[0m\u001b[31m\n",
            "\u001b[0m\u001b[31mERROR: No matching distribution found for pickle\u001b[0m\u001b[31m\n",
            "\u001b[0m\u001b[31mERROR: Could not find a version that satisfies the requirement yaml (from versions: none)\u001b[0m\u001b[31m\n",
            "\u001b[0m\u001b[31mERROR: No matching distribution found for yaml\u001b[0m\u001b[31m\n",
            "\u001b[0mRequirement already satisfied: sodapy in ./venv/lib/python3.9/site-packages (2.2.0)\n",
            "Requirement already satisfied: requests>=2.28.1 in ./venv/lib/python3.9/site-packages (from sodapy) (2.32.3)\n",
            "Requirement already satisfied: charset-normalizer<4,>=2 in ./venv/lib/python3.9/site-packages (from requests>=2.28.1->sodapy) (3.4.0)\n",
            "Requirement already satisfied: idna<4,>=2.5 in ./venv/lib/python3.9/site-packages (from requests>=2.28.1->sodapy) (3.10)\n",
            "Requirement already satisfied: urllib3<3,>=1.21.1 in ./venv/lib/python3.9/site-packages (from requests>=2.28.1->sodapy) (1.26.20)\n",
            "Requirement already satisfied: certifi>=2017.4.17 in ./venv/lib/python3.9/site-packages (from requests>=2.28.1->sodapy) (2024.8.30)\n"
          ]
        }
      ],
      "source": [
        "!pip install boto3\n",
        "!pip install pickle\n",
        "!pip install yaml\n",
        "!pip install sodapy"
      ]
    },
    {
      "cell_type": "code",
      "execution_count": 2,
      "metadata": {
        "id": "rV3MMdpAfWvT"
      },
      "outputs": [],
      "source": [
        "import pandas as pd\n",
        "import numpy as np\n",
        "import matplotlib.pyplot as plt\n",
        "import seaborn as sns\n",
        "import yaml\n",
        "import pickle\n",
        "import boto3\n",
        "\n",
        "from datetime import date\n",
        "from sodapy import Socrata"
      ]
    },
    {
      "cell_type": "code",
      "execution_count": 3,
      "metadata": {
        "id": "9Z-54nM-fWvV"
      },
      "outputs": [],
      "source": [
        "with open('credentials.yaml', 'r') as f:\n",
        "    config = yaml.safe_load(f)\n",
        "\n",
        "token = config['api_chicago']['app_token']\n",
        "username = config['api_chicago']['username']\n",
        "password = config['api_chicago']['password']\n",
        "matricula = config['iexe']['matricula']"
      ]
    },
    {
      "cell_type": "code",
      "execution_count": 4,
      "metadata": {
        "id": "S_nDzhCIfWvW"
      },
      "outputs": [],
      "source": [
        "# code for dataset of food inspections\n",
        "chicago_dataset = \"4ijn-s7e5\""
      ]
    },
    {
      "cell_type": "markdown",
      "metadata": {
        "id": "dQeHX0kEfWvW"
      },
      "source": [
        "### 1. Función get_client"
      ]
    },
    {
      "cell_type": "code",
      "execution_count": 5,
      "metadata": {
        "id": "Kb9D2LTLfWvi"
      },
      "outputs": [],
      "source": [
        "def get_client():\n",
        "    client = Socrata(\"data.cityofchicago.org\", \n",
        "                     token,\n",
        "                     username=username,\n",
        "                     password=password)\n",
        "    \n",
        "    return client"
      ]
    },
    {
      "cell_type": "markdown",
      "metadata": {
        "id": "PWXb51JCfWvj"
      },
      "source": [
        "### 2. Ingesta inicial\n",
        "\n",
        "Bajar los datos de la API de inspecciones de establecimientos de comida. "
      ]
    },
    {
      "cell_type": "code",
      "execution_count": 6,
      "metadata": {
        "id": "OueVaiU7fWvj"
      },
      "outputs": [],
      "source": [
        "def ingesta_inicial(chicago_dataset, client, limit):\n",
        "    datasets = client.get(chicago_dataset, limit=limit, offset=0, order='inspection_date')\n",
        "    \n",
        "    return datasets"
      ]
    },
    {
      "cell_type": "code",
      "execution_count": 7,
      "metadata": {
        "id": "qMxZ1RwyfWvk"
      },
      "outputs": [],
      "source": [
        "client = get_client()\n",
        "datasets = ingesta_inicial(chicago_dataset, client, 300000)"
      ]
    },
    {
      "cell_type": "code",
      "execution_count": 8,
      "metadata": {
        "colab": {
          "base_uri": "https://localhost:8080/"
        },
        "id": "c9zrpu_AfWvk",
        "outputId": "6d8df319-c12b-466f-e44a-c3a66b1cc210"
      },
      "outputs": [
        {
          "data": {
            "text/plain": [
              "280438"
            ]
          },
          "execution_count": 8,
          "metadata": {},
          "output_type": "execute_result"
        }
      ],
      "source": [
        "len(datasets)"
      ]
    },
    {
      "cell_type": "code",
      "execution_count": 9,
      "metadata": {
        "colab": {
          "base_uri": "https://localhost:8080/"
        },
        "id": "lMQJw8rXfWvl",
        "outputId": "7bfbca36-9cfd-47c1-c3b8-58fdf4afb7d8"
      },
      "outputs": [
        {
          "data": {
            "text/plain": [
              "{'inspection_id': '67732',\n",
              " 'dba_name': \"WOLCOTT'S\",\n",
              " 'aka_name': 'TROQUET',\n",
              " 'license_': '1992039',\n",
              " 'facility_type': 'Restaurant',\n",
              " 'risk': 'Risk 1 (High)',\n",
              " 'address': '1834 W MONTROSE AVE ',\n",
              " 'city': 'CHICAGO',\n",
              " 'state': 'IL',\n",
              " 'zip': '60613',\n",
              " 'inspection_date': '2010-01-04T00:00:00.000',\n",
              " 'inspection_type': 'License Re-Inspection',\n",
              " 'results': 'Pass',\n",
              " 'latitude': '41.961605669949854',\n",
              " 'longitude': '-87.67596676683779',\n",
              " 'location': {'latitude': '41.961605669949854',\n",
              "  'longitude': '-87.67596676683779'}}"
            ]
          },
          "execution_count": 9,
          "metadata": {},
          "output_type": "execute_result"
        }
      ],
      "source": [
        "datasets[0]"
      ]
    },
    {
      "cell_type": "markdown",
      "metadata": {
        "id": "l_K-SycCfWvm"
      },
      "source": [
        "### 3. Almacenamiento de ingesta inicial"
      ]
    },
    {
      "cell_type": "code",
      "execution_count": 10,
      "metadata": {
        "id": "keCu1yqmfWvm"
      },
      "outputs": [],
      "source": [
        "def guardar_ingesta(bucket, bucket_path, dataset):\n",
        "    session = boto3.Session(\n",
        "        aws_access_key_id = config['s3']['aws_access_key_id'],\n",
        "        aws_secret_access_key = config['s3']['aws_secret_access_key'],\n",
        "        aws_session_token= config['s3']['aws_session_token']\n",
        "    )\n",
        "\n",
        "    s3 = session.resource('s3')\n",
        "    s3.Object(bucket, bucket_path).put(Body=dataset)"
      ]
    },
    {
      "cell_type": "markdown",
      "metadata": {
        "id": "oiVCeUhM5H-C"
      },
      "source": [
        "### 3a. Creación de Bucket\n",
        "##### creamos la variable con la fecha de hoy"
      ]
    },
    {
      "cell_type": "code",
      "execution_count": 11,
      "metadata": {
        "colab": {
          "base_uri": "https://localhost:8080/"
        },
        "id": "TFWOrPayfWvn",
        "outputId": "95330b29-befe-4ea0-e0aa-e4904b823914"
      },
      "outputs": [
        {
          "name": "stdout",
          "output_type": "stream",
          "text": [
            "creando\n"
          ]
        },
        {
          "ename": "ClientError",
          "evalue": "An error occurred (IllegalLocationConstraintException) when calling the CreateBucket operation: The unspecified location constraint is incompatible for the region specific endpoint this request was sent to.",
          "output_type": "error",
          "traceback": [
            "\u001b[0;31m---------------------------------------------------------------------------\u001b[0m",
            "\u001b[0;31mClientError\u001b[0m                               Traceback (most recent call last)",
            "Cell \u001b[0;32mIn[11], line 11\u001b[0m\n\u001b[1;32m      9\u001b[0m s3 \u001b[38;5;241m=\u001b[39m session\u001b[38;5;241m.\u001b[39mresource(\u001b[38;5;124m'\u001b[39m\u001b[38;5;124ms3\u001b[39m\u001b[38;5;124m'\u001b[39m)\n\u001b[1;32m     10\u001b[0m nombre_bucket \u001b[38;5;241m=\u001b[39m \u001b[38;5;124m\"\u001b[39m\u001b[38;5;124maplicaciones-cd-1-\u001b[39m\u001b[38;5;124m\"\u001b[39m \u001b[38;5;241m+\u001b[39m config[\u001b[38;5;124m'\u001b[39m\u001b[38;5;124miexe\u001b[39m\u001b[38;5;124m'\u001b[39m][\u001b[38;5;124m'\u001b[39m\u001b[38;5;124mmatricula\u001b[39m\u001b[38;5;124m'\u001b[39m]\n\u001b[0;32m---> 11\u001b[0m \u001b[43ms3\u001b[49m\u001b[38;5;241;43m.\u001b[39;49m\u001b[43mcreate_bucket\u001b[49m\u001b[43m(\u001b[49m\u001b[43mBucket\u001b[49m\u001b[38;5;241;43m=\u001b[39;49m\u001b[43mnombre_bucket\u001b[49m\u001b[43m)\u001b[49m\n\u001b[1;32m     12\u001b[0m bucket_creado \u001b[38;5;241m=\u001b[39m \u001b[38;5;28;01mTrue\u001b[39;00m\n",
            "File \u001b[0;32m~/maestria/aplicaciones-ciencia-de-datos-1/venv/lib/python3.9/site-packages/boto3/resources/factory.py:581\u001b[0m, in \u001b[0;36mResourceFactory._create_action.<locals>.do_action\u001b[0;34m(self, *args, **kwargs)\u001b[0m\n\u001b[1;32m    580\u001b[0m \u001b[38;5;28;01mdef\u001b[39;00m \u001b[38;5;21mdo_action\u001b[39m(\u001b[38;5;28mself\u001b[39m, \u001b[38;5;241m*\u001b[39margs, \u001b[38;5;241m*\u001b[39m\u001b[38;5;241m*\u001b[39mkwargs):\n\u001b[0;32m--> 581\u001b[0m     response \u001b[38;5;241m=\u001b[39m \u001b[43maction\u001b[49m\u001b[43m(\u001b[49m\u001b[38;5;28;43mself\u001b[39;49m\u001b[43m,\u001b[49m\u001b[43m \u001b[49m\u001b[38;5;241;43m*\u001b[39;49m\u001b[43margs\u001b[49m\u001b[43m,\u001b[49m\u001b[43m \u001b[49m\u001b[38;5;241;43m*\u001b[39;49m\u001b[38;5;241;43m*\u001b[39;49m\u001b[43mkwargs\u001b[49m\u001b[43m)\u001b[49m\n\u001b[1;32m    583\u001b[0m     \u001b[38;5;28;01mif\u001b[39;00m \u001b[38;5;28mhasattr\u001b[39m(\u001b[38;5;28mself\u001b[39m, \u001b[38;5;124m'\u001b[39m\u001b[38;5;124mload\u001b[39m\u001b[38;5;124m'\u001b[39m):\n\u001b[1;32m    584\u001b[0m         \u001b[38;5;66;03m# Clear cached data. It will be reloaded the next\u001b[39;00m\n\u001b[1;32m    585\u001b[0m         \u001b[38;5;66;03m# time that an attribute is accessed.\u001b[39;00m\n\u001b[1;32m    586\u001b[0m         \u001b[38;5;66;03m# TODO: Make this configurable in the future?\u001b[39;00m\n\u001b[1;32m    587\u001b[0m         \u001b[38;5;28mself\u001b[39m\u001b[38;5;241m.\u001b[39mmeta\u001b[38;5;241m.\u001b[39mdata \u001b[38;5;241m=\u001b[39m \u001b[38;5;28;01mNone\u001b[39;00m\n",
            "File \u001b[0;32m~/maestria/aplicaciones-ciencia-de-datos-1/venv/lib/python3.9/site-packages/boto3/resources/action.py:88\u001b[0m, in \u001b[0;36mServiceAction.__call__\u001b[0;34m(self, parent, *args, **kwargs)\u001b[0m\n\u001b[1;32m     79\u001b[0m params\u001b[38;5;241m.\u001b[39mupdate(kwargs)\n\u001b[1;32m     81\u001b[0m logger\u001b[38;5;241m.\u001b[39mdebug(\n\u001b[1;32m     82\u001b[0m     \u001b[38;5;124m'\u001b[39m\u001b[38;5;124mCalling \u001b[39m\u001b[38;5;132;01m%s\u001b[39;00m\u001b[38;5;124m:\u001b[39m\u001b[38;5;132;01m%s\u001b[39;00m\u001b[38;5;124m with \u001b[39m\u001b[38;5;132;01m%r\u001b[39;00m\u001b[38;5;124m'\u001b[39m,\n\u001b[1;32m     83\u001b[0m     parent\u001b[38;5;241m.\u001b[39mmeta\u001b[38;5;241m.\u001b[39mservice_name,\n\u001b[1;32m     84\u001b[0m     operation_name,\n\u001b[1;32m     85\u001b[0m     params,\n\u001b[1;32m     86\u001b[0m )\n\u001b[0;32m---> 88\u001b[0m response \u001b[38;5;241m=\u001b[39m \u001b[38;5;28;43mgetattr\u001b[39;49m\u001b[43m(\u001b[49m\u001b[43mparent\u001b[49m\u001b[38;5;241;43m.\u001b[39;49m\u001b[43mmeta\u001b[49m\u001b[38;5;241;43m.\u001b[39;49m\u001b[43mclient\u001b[49m\u001b[43m,\u001b[49m\u001b[43m \u001b[49m\u001b[43moperation_name\u001b[49m\u001b[43m)\u001b[49m\u001b[43m(\u001b[49m\u001b[38;5;241;43m*\u001b[39;49m\u001b[43margs\u001b[49m\u001b[43m,\u001b[49m\u001b[43m \u001b[49m\u001b[38;5;241;43m*\u001b[39;49m\u001b[38;5;241;43m*\u001b[39;49m\u001b[43mparams\u001b[49m\u001b[43m)\u001b[49m\n\u001b[1;32m     90\u001b[0m logger\u001b[38;5;241m.\u001b[39mdebug(\u001b[38;5;124m'\u001b[39m\u001b[38;5;124mResponse: \u001b[39m\u001b[38;5;132;01m%r\u001b[39;00m\u001b[38;5;124m'\u001b[39m, response)\n\u001b[1;32m     92\u001b[0m \u001b[38;5;28;01mreturn\u001b[39;00m \u001b[38;5;28mself\u001b[39m\u001b[38;5;241m.\u001b[39m_response_handler(parent, params, response)\n",
            "File \u001b[0;32m~/maestria/aplicaciones-ciencia-de-datos-1/venv/lib/python3.9/site-packages/botocore/client.py:569\u001b[0m, in \u001b[0;36mClientCreator._create_api_method.<locals>._api_call\u001b[0;34m(self, *args, **kwargs)\u001b[0m\n\u001b[1;32m    565\u001b[0m     \u001b[38;5;28;01mraise\u001b[39;00m \u001b[38;5;167;01mTypeError\u001b[39;00m(\n\u001b[1;32m    566\u001b[0m         \u001b[38;5;124mf\u001b[39m\u001b[38;5;124m\"\u001b[39m\u001b[38;5;132;01m{\u001b[39;00mpy_operation_name\u001b[38;5;132;01m}\u001b[39;00m\u001b[38;5;124m() only accepts keyword arguments.\u001b[39m\u001b[38;5;124m\"\u001b[39m\n\u001b[1;32m    567\u001b[0m     )\n\u001b[1;32m    568\u001b[0m \u001b[38;5;66;03m# The \"self\" in this scope is referring to the BaseClient.\u001b[39;00m\n\u001b[0;32m--> 569\u001b[0m \u001b[38;5;28;01mreturn\u001b[39;00m \u001b[38;5;28;43mself\u001b[39;49m\u001b[38;5;241;43m.\u001b[39;49m\u001b[43m_make_api_call\u001b[49m\u001b[43m(\u001b[49m\u001b[43moperation_name\u001b[49m\u001b[43m,\u001b[49m\u001b[43m \u001b[49m\u001b[43mkwargs\u001b[49m\u001b[43m)\u001b[49m\n",
            "File \u001b[0;32m~/maestria/aplicaciones-ciencia-de-datos-1/venv/lib/python3.9/site-packages/botocore/client.py:1023\u001b[0m, in \u001b[0;36mBaseClient._make_api_call\u001b[0;34m(self, operation_name, api_params)\u001b[0m\n\u001b[1;32m   1019\u001b[0m     error_code \u001b[38;5;241m=\u001b[39m error_info\u001b[38;5;241m.\u001b[39mget(\u001b[38;5;124m\"\u001b[39m\u001b[38;5;124mQueryErrorCode\u001b[39m\u001b[38;5;124m\"\u001b[39m) \u001b[38;5;129;01mor\u001b[39;00m error_info\u001b[38;5;241m.\u001b[39mget(\n\u001b[1;32m   1020\u001b[0m         \u001b[38;5;124m\"\u001b[39m\u001b[38;5;124mCode\u001b[39m\u001b[38;5;124m\"\u001b[39m\n\u001b[1;32m   1021\u001b[0m     )\n\u001b[1;32m   1022\u001b[0m     error_class \u001b[38;5;241m=\u001b[39m \u001b[38;5;28mself\u001b[39m\u001b[38;5;241m.\u001b[39mexceptions\u001b[38;5;241m.\u001b[39mfrom_code(error_code)\n\u001b[0;32m-> 1023\u001b[0m     \u001b[38;5;28;01mraise\u001b[39;00m error_class(parsed_response, operation_name)\n\u001b[1;32m   1024\u001b[0m \u001b[38;5;28;01melse\u001b[39;00m:\n\u001b[1;32m   1025\u001b[0m     \u001b[38;5;28;01mreturn\u001b[39;00m parsed_response\n",
            "\u001b[0;31mClientError\u001b[0m: An error occurred (IllegalLocationConstraintException) when calling the CreateBucket operation: The unspecified location constraint is incompatible for the region specific endpoint this request was sent to."
          ]
        }
      ],
      "source": [
        "TODAY = date.today()\n",
        "if not 'bucket_creado' in locals():\n",
        "  print(\"creando\")\n",
        "  session = boto3.Session(\n",
        "    aws_access_key_id = config['s3']['aws_access_key_id'],\n",
        "    aws_secret_access_key = config['s3']['aws_secret_access_key'],\n",
        "    aws_session_token= config['s3']['aws_session_token']\n",
        "  )\n",
        "  s3 = session.resource('s3')\n",
        "  nombre_bucket = \"aplicaciones-cd-1-\" + config['iexe']['matricula']\n",
        "  s3.create_bucket(Bucket=nombre_bucket)\n",
        "  bucket_creado = True"
      ]
    },
    {
      "cell_type": "code",
      "execution_count": 13,
      "metadata": {
        "id": "TPkrintufWvn"
      },
      "outputs": [],
      "source": [
        "pickle_data = pickle.dumps(datasets)"
      ]
    },
    {
      "cell_type": "code",
      "execution_count": 16,
      "metadata": {
        "id": "9HP9HTqyfWvn"
      },
      "outputs": [],
      "source": [
        "bucket = \"aplicaciones-cd-1-\" + config['iexe']['matricula']\n",
        "key = \"ingesta/inicial/inspecciones-historicas-\" + str(TODAY) + \".pkl\"\n",
        "\n",
        "guardar_ingesta(bucket, key, pickle_data)"
      ]
    },
    {
      "cell_type": "markdown",
      "metadata": {
        "id": "iSGeFi7FfWvo"
      },
      "source": [
        "Guardar el dataset en un pickle en un bucket de s3, el nombre del archivo dete terminar con el día en el que se realizó la ingesta (obtenido de manera dinámica). "
      ]
    },
    {
      "cell_type": "markdown",
      "metadata": {
        "id": "KbQWTKbofWvo"
      },
      "source": [
        "### 4. Ingestas consecutivas"
      ]
    },
    {
      "cell_type": "markdown",
      "metadata": {
        "id": "CoVMjkmhfWvp"
      },
      "source": [
        "La siguiente vez que se ingestan los datos se tendrá que pedir específicamente a partir de la fecha desde la que no tienes datos."
      ]
    },
    {
      "cell_type": "code",
      "execution_count": 17,
      "metadata": {
        "id": "LgCTPsRnfWvp"
      },
      "outputs": [],
      "source": [
        "def ingesta_consecutiva(chicago_dataset, client, fecha, limit):\n",
        "    new_dataset = client.get(chicago_dataset, limit=limit, where=\"inspection_date>='{}'\".format(fecha))\n",
        "    \n",
        "    return new_dataset"
      ]
    },
    {
      "cell_type": "code",
      "execution_count": 18,
      "metadata": {
        "id": "EiTcmrKAfWvp"
      },
      "outputs": [],
      "source": [
        "client = get_client()"
      ]
    },
    {
      "cell_type": "code",
      "execution_count": 19,
      "metadata": {
        "id": "ywvNJUywfWvq"
      },
      "outputs": [],
      "source": [
        "new_dataset = ingesta_consecutiva(chicago_dataset, client, '2020-11-03', 1000)"
      ]
    },
    {
      "cell_type": "code",
      "execution_count": 20,
      "metadata": {
        "colab": {
          "base_uri": "https://localhost:8080/"
        },
        "id": "95975jh8fWvq",
        "outputId": "802aaedf-5589-4d64-d317-8f6ccdafde20"
      },
      "outputs": [
        {
          "data": {
            "text/plain": [
              "{'inspection_id': '2454188',\n",
              " 'dba_name': '63RD AND DREXEL MOBIL',\n",
              " 'aka_name': '63RD AND DREXEL MOBIL/GREAT STEAK',\n",
              " 'license_': '1817156',\n",
              " 'facility_type': 'Restaurant',\n",
              " 'risk': 'Risk 3 (Low)',\n",
              " 'address': '850 E 63RD ST ',\n",
              " 'city': 'CHICAGO',\n",
              " 'state': 'IL',\n",
              " 'zip': '60637',\n",
              " 'inspection_date': '2020-11-03T00:00:00.000',\n",
              " 'inspection_type': 'Canvass',\n",
              " 'results': 'Pass',\n",
              " 'violations': '39. CONTAMINATION PREVENTED DURING FOOD PREPARATION, STORAGE & DISPLAY - Comments: OBSERVED FOOD ITEMS STORED ON FLOOR BEHIND FRONT COUNTER. INSTRUCTED MANAGER TO ELEVATE ALL FOOD ITEMS SIX INCHES OFF FLOOR. | 49. NON-FOOD/FOOD CONTACT SURFACES CLEAN - Comments: OBSERVED RESIDUE ON INTERIOR SURFACES OF ICE MACHINE. INSTRUCTED MANAGER TO CLEAN AND MAINTAIN. | 55. PHYSICAL FACILITIES INSTALLED, MAINTAINED & CLEAN - Comments: OBSERVED DUST, DIRT AND DEBRIS ON FLOORS ALONG WALLS AND CORNERS IN SALES AND REAR STORAGE AREAS. INSTRUCTED MANAGER TO CLEAN AND MAINTAIN.',\n",
              " 'latitude': '41.780547573927414',\n",
              " 'longitude': '-87.60393831024643',\n",
              " 'location': {'latitude': '41.780547573927414',\n",
              "  'longitude': '-87.60393831024643'}}"
            ]
          },
          "execution_count": 20,
          "metadata": {},
          "output_type": "execute_result"
        }
      ],
      "source": [
        "new_dataset[0]"
      ]
    },
    {
      "cell_type": "code",
      "execution_count": 21,
      "metadata": {
        "colab": {
          "base_uri": "https://localhost:8080/"
        },
        "id": "6GojW51cfWvq",
        "outputId": "a1acb6df-bf94-429d-e2dd-5d0bc7f4951d"
      },
      "outputs": [
        {
          "data": {
            "text/plain": [
              "1000"
            ]
          },
          "execution_count": 21,
          "metadata": {},
          "output_type": "execute_result"
        }
      ],
      "source": [
        "len(new_dataset)"
      ]
    },
    {
      "cell_type": "markdown",
      "metadata": {
        "id": "zEm4vGCZfWvr"
      },
      "source": [
        "### 5. Almacenamiento de ingestas consecutivas"
      ]
    },
    {
      "cell_type": "code",
      "execution_count": 22,
      "metadata": {
        "id": "2wKydjBAfWvr"
      },
      "outputs": [],
      "source": [
        "pickled_new_data = pickle.dumps(new_dataset)"
      ]
    },
    {
      "cell_type": "code",
      "execution_count": 25,
      "metadata": {
        "id": "XrwuTpVBfWvr"
      },
      "outputs": [],
      "source": [
        "bucket = \"aplicaciones-cd-1-\" + config['iexe']['matricula']\n",
        "key = \"ingesta/consecutiva/inspecciones-consecutivas-\" + str(TODAY) + \".pkl\"\n",
        "\n",
        "guardar_ingesta(bucket, key, pickled_new_data)"
      ]
    },
    {
      "cell_type": "code",
      "execution_count": null,
      "metadata": {
        "id": "lXcH-W9v38kU"
      },
      "outputs": [],
      "source": []
    }
  ],
  "metadata": {
    "colab": {
      "provenance": []
    },
    "kernelspec": {
      "display_name": "venv",
      "language": "python",
      "name": "python3"
    },
    "language_info": {
      "codemirror_mode": {
        "name": "ipython",
        "version": 3
      },
      "file_extension": ".py",
      "mimetype": "text/x-python",
      "name": "python",
      "nbconvert_exporter": "python",
      "pygments_lexer": "ipython3",
      "version": "3.9.0"
    }
  },
  "nbformat": 4,
  "nbformat_minor": 0
}
