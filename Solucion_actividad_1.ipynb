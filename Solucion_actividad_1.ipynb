{
 "cells": [
  {
   "cell_type": "code",
   "execution_count": 1,
   "metadata": {},
   "outputs": [],
   "source": [
    "import numpy as np\n",
    "import pandas as pd"
   ]
  },
  {
   "cell_type": "code",
   "execution_count": 2,
   "metadata": {},
   "outputs": [],
   "source": [
    "food = pd.read_csv(\"Food_Inspections.csv\")"
   ]
  },
  {
   "cell_type": "markdown",
   "metadata": {},
   "source": [
    "3. ¿Cuántas inspecciones tiene el archivo?"
   ]
  },
  {
   "cell_type": "code",
   "execution_count": 3,
   "metadata": {},
   "outputs": [
    {
     "data": {
      "text/plain": [
       "(216091, 17)"
      ]
     },
     "execution_count": 3,
     "metadata": {},
     "output_type": "execute_result"
    }
   ],
   "source": [
    "food.shape"
   ]
  },
  {
   "cell_type": "code",
   "execution_count": 4,
   "metadata": {},
   "outputs": [
    {
     "data": {
      "text/html": [
       "<div>\n",
       "<style scoped>\n",
       "    .dataframe tbody tr th:only-of-type {\n",
       "        vertical-align: middle;\n",
       "    }\n",
       "\n",
       "    .dataframe tbody tr th {\n",
       "        vertical-align: top;\n",
       "    }\n",
       "\n",
       "    .dataframe thead th {\n",
       "        text-align: right;\n",
       "    }\n",
       "</style>\n",
       "<table border=\"1\" class=\"dataframe\">\n",
       "  <thead>\n",
       "    <tr style=\"text-align: right;\">\n",
       "      <th></th>\n",
       "      <th>Inspection ID</th>\n",
       "      <th>DBA Name</th>\n",
       "      <th>AKA Name</th>\n",
       "      <th>License #</th>\n",
       "      <th>Facility Type</th>\n",
       "      <th>Risk</th>\n",
       "      <th>Address</th>\n",
       "      <th>City</th>\n",
       "      <th>State</th>\n",
       "      <th>Zip</th>\n",
       "      <th>Inspection Date</th>\n",
       "      <th>Inspection Type</th>\n",
       "      <th>Results</th>\n",
       "      <th>Violations</th>\n",
       "      <th>Latitude</th>\n",
       "      <th>Longitude</th>\n",
       "      <th>Location</th>\n",
       "    </tr>\n",
       "  </thead>\n",
       "  <tbody>\n",
       "    <tr>\n",
       "      <th>0</th>\n",
       "      <td>2473041</td>\n",
       "      <td>ROSATI'S GRANT PARK</td>\n",
       "      <td>ROSATI'S</td>\n",
       "      <td>2762683.0</td>\n",
       "      <td>Restaurant</td>\n",
       "      <td>Risk 1 (High)</td>\n",
       "      <td>23 E ADAMS ST</td>\n",
       "      <td>CHICAGO</td>\n",
       "      <td>IL</td>\n",
       "      <td>60603.0</td>\n",
       "      <td>01/22/2021</td>\n",
       "      <td>License</td>\n",
       "      <td>Pass</td>\n",
       "      <td>NaN</td>\n",
       "      <td>41.879391</td>\n",
       "      <td>-87.626848</td>\n",
       "      <td>(-87.62684825563626, 41.879391313239694)</td>\n",
       "    </tr>\n",
       "    <tr>\n",
       "      <th>1</th>\n",
       "      <td>2473009</td>\n",
       "      <td>JENI'S SPLENDID ICE CREAMS</td>\n",
       "      <td>JENI'S SPLENDID ICE CREAMS</td>\n",
       "      <td>2767260.0</td>\n",
       "      <td>Restaurant</td>\n",
       "      <td>Risk 2 (Medium)</td>\n",
       "      <td>2512 N MILKWAUKEE AVE</td>\n",
       "      <td>CHICAGO</td>\n",
       "      <td>IL</td>\n",
       "      <td>60647.0</td>\n",
       "      <td>01/22/2021</td>\n",
       "      <td>License</td>\n",
       "      <td>Pass</td>\n",
       "      <td>NaN</td>\n",
       "      <td>NaN</td>\n",
       "      <td>NaN</td>\n",
       "      <td>NaN</td>\n",
       "    </tr>\n",
       "    <tr>\n",
       "      <th>2</th>\n",
       "      <td>2453552</td>\n",
       "      <td>CLAMP DOWN BURGERS</td>\n",
       "      <td>NaN</td>\n",
       "      <td>2749943.0</td>\n",
       "      <td>NaN</td>\n",
       "      <td>Risk 2 (Medium)</td>\n",
       "      <td>1742 W DIVISION ST</td>\n",
       "      <td>CHICAGO</td>\n",
       "      <td>IL</td>\n",
       "      <td>60622.0</td>\n",
       "      <td>10/20/2020</td>\n",
       "      <td>License</td>\n",
       "      <td>No Entry</td>\n",
       "      <td>NaN</td>\n",
       "      <td>41.903387</td>\n",
       "      <td>-87.671740</td>\n",
       "      <td>(-87.67174026586648, 41.903386755553484)</td>\n",
       "    </tr>\n",
       "    <tr>\n",
       "      <th>3</th>\n",
       "      <td>2386634</td>\n",
       "      <td>MY BUDDY'S</td>\n",
       "      <td>MY BUDDY'S</td>\n",
       "      <td>21943.0</td>\n",
       "      <td>Restaurant</td>\n",
       "      <td>Risk 1 (High)</td>\n",
       "      <td>4416 N CLARK ST</td>\n",
       "      <td>CHICAGO</td>\n",
       "      <td>IL</td>\n",
       "      <td>60640.0</td>\n",
       "      <td>08/28/2020</td>\n",
       "      <td>Canvass</td>\n",
       "      <td>No Entry</td>\n",
       "      <td>NaN</td>\n",
       "      <td>41.962160</td>\n",
       "      <td>-87.666219</td>\n",
       "      <td>(-87.6662185738834, 41.962159720050074)</td>\n",
       "    </tr>\n",
       "    <tr>\n",
       "      <th>4</th>\n",
       "      <td>2386595</td>\n",
       "      <td>LA BIZNAGA #2</td>\n",
       "      <td>LA BIZNAGA #2</td>\n",
       "      <td>2708992.0</td>\n",
       "      <td>NaN</td>\n",
       "      <td>Risk 1 (High)</td>\n",
       "      <td>2949 W BELMONT AVE</td>\n",
       "      <td>CHICAGO</td>\n",
       "      <td>IL</td>\n",
       "      <td>60618.0</td>\n",
       "      <td>08/27/2020</td>\n",
       "      <td>Complaint</td>\n",
       "      <td>No Entry</td>\n",
       "      <td>NaN</td>\n",
       "      <td>41.939256</td>\n",
       "      <td>-87.702270</td>\n",
       "      <td>(-87.70226967930802, 41.939255926667535)</td>\n",
       "    </tr>\n",
       "  </tbody>\n",
       "</table>\n",
       "</div>"
      ],
      "text/plain": [
       "   Inspection ID                    DBA Name                    AKA Name  \\\n",
       "0        2473041         ROSATI'S GRANT PARK                    ROSATI'S   \n",
       "1        2473009  JENI'S SPLENDID ICE CREAMS  JENI'S SPLENDID ICE CREAMS   \n",
       "2        2453552          CLAMP DOWN BURGERS                         NaN   \n",
       "3        2386634                  MY BUDDY'S                  MY BUDDY'S   \n",
       "4        2386595               LA BIZNAGA #2               LA BIZNAGA #2   \n",
       "\n",
       "   License # Facility Type             Risk                 Address     City  \\\n",
       "0  2762683.0    Restaurant    Risk 1 (High)          23 E ADAMS ST   CHICAGO   \n",
       "1  2767260.0    Restaurant  Risk 2 (Medium)  2512 N MILKWAUKEE AVE   CHICAGO   \n",
       "2  2749943.0           NaN  Risk 2 (Medium)     1742 W DIVISION ST   CHICAGO   \n",
       "3    21943.0    Restaurant    Risk 1 (High)        4416 N CLARK ST   CHICAGO   \n",
       "4  2708992.0           NaN    Risk 1 (High)     2949 W BELMONT AVE   CHICAGO   \n",
       "\n",
       "  State      Zip Inspection Date Inspection Type   Results Violations  \\\n",
       "0    IL  60603.0      01/22/2021         License      Pass        NaN   \n",
       "1    IL  60647.0      01/22/2021         License      Pass        NaN   \n",
       "2    IL  60622.0      10/20/2020         License  No Entry        NaN   \n",
       "3    IL  60640.0      08/28/2020         Canvass  No Entry        NaN   \n",
       "4    IL  60618.0      08/27/2020       Complaint  No Entry        NaN   \n",
       "\n",
       "    Latitude  Longitude                                  Location  \n",
       "0  41.879391 -87.626848  (-87.62684825563626, 41.879391313239694)  \n",
       "1        NaN        NaN                                       NaN  \n",
       "2  41.903387 -87.671740  (-87.67174026586648, 41.903386755553484)  \n",
       "3  41.962160 -87.666219   (-87.6662185738834, 41.962159720050074)  \n",
       "4  41.939256 -87.702270  (-87.70226967930802, 41.939255926667535)  "
      ]
     },
     "execution_count": 4,
     "metadata": {},
     "output_type": "execute_result"
    }
   ],
   "source": [
    "food.head()"
   ]
  },
  {
   "cell_type": "code",
   "execution_count": 5,
   "metadata": {},
   "outputs": [],
   "source": [
    "food.rename(columns={col: col.lower().replace(' ','_') for col in food.columns.values}, inplace=True)"
   ]
  },
  {
   "cell_type": "code",
   "execution_count": 6,
   "metadata": {},
   "outputs": [
    {
     "data": {
      "text/plain": [
       "array(['inspection_id', 'dba_name', 'aka_name', 'license_#',\n",
       "       'facility_type', 'risk', 'address', 'city', 'state', 'zip',\n",
       "       'inspection_date', 'inspection_type', 'results', 'violations',\n",
       "       'latitude', 'longitude', 'location'], dtype=object)"
      ]
     },
     "execution_count": 6,
     "metadata": {},
     "output_type": "execute_result"
    }
   ],
   "source": [
    "food.columns.values"
   ]
  },
  {
   "cell_type": "markdown",
   "metadata": {},
   "source": [
    "4 y 5. ¿Hasta qué fecha tienes inspecciones?"
   ]
  },
  {
   "cell_type": "code",
   "execution_count": 7,
   "metadata": {},
   "outputs": [
    {
     "data": {
      "text/plain": [
       "('01/02/2013', '12/31/2020')"
      ]
     },
     "execution_count": 7,
     "metadata": {},
     "output_type": "execute_result"
    }
   ],
   "source": [
    "(food['inspection_date'].min(), food['inspection_date'].max())"
   ]
  },
  {
   "cell_type": "markdown",
   "metadata": {},
   "source": [
    "6. ¿Cuántas variables diferentes tienes en el dataset?"
   ]
  },
  {
   "cell_type": "code",
   "execution_count": 8,
   "metadata": {},
   "outputs": [
    {
     "data": {
      "text/plain": [
       "17"
      ]
     },
     "execution_count": 8,
     "metadata": {},
     "output_type": "execute_result"
    }
   ],
   "source": [
    "len(food.columns.values)"
   ]
  },
  {
   "cell_type": "markdown",
   "metadata": {},
   "source": [
    "7. ¿En cuántas ciudades diferentes se han hecho inspecciones? "
   ]
  },
  {
   "cell_type": "code",
   "execution_count": 9,
   "metadata": {},
   "outputs": [
    {
     "data": {
      "text/plain": [
       "70"
      ]
     },
     "execution_count": 9,
     "metadata": {},
     "output_type": "execute_result"
    }
   ],
   "source": [
    "food.city.nunique()"
   ]
  },
  {
   "cell_type": "markdown",
   "metadata": {},
   "source": [
    "8. ¿Cuántos tipos de resultados diferentes hay?"
   ]
  },
  {
   "cell_type": "code",
   "execution_count": 10,
   "metadata": {},
   "outputs": [
    {
     "data": {
      "text/plain": [
       "7"
      ]
     },
     "execution_count": 10,
     "metadata": {},
     "output_type": "execute_result"
    }
   ],
   "source": [
    "food.results.nunique()"
   ]
  },
  {
   "cell_type": "markdown",
   "metadata": {},
   "source": [
    "9. ¿Cuántos tipos de establecimientos diferentes hay?"
   ]
  },
  {
   "cell_type": "code",
   "execution_count": 11,
   "metadata": {},
   "outputs": [
    {
     "data": {
      "text/plain": [
       "500"
      ]
     },
     "execution_count": 11,
     "metadata": {},
     "output_type": "execute_result"
    }
   ],
   "source": [
    "food.facility_type.nunique()"
   ]
  },
  {
   "cell_type": "markdown",
   "metadata": {},
   "source": [
    "10. ¿Cuántos establecimiento tienen violaciones? "
   ]
  },
  {
   "cell_type": "code",
   "execution_count": 12,
   "metadata": {},
   "outputs": [
    {
     "data": {
      "text/plain": [
       "np.int64(158355)"
      ]
     },
     "execution_count": 12,
     "metadata": {},
     "output_type": "execute_result"
    }
   ],
   "source": [
    "food.violations.count()"
   ]
  },
  {
   "cell_type": "code",
   "execution_count": null,
   "metadata": {},
   "outputs": [],
   "source": []
  }
 ],
 "metadata": {
  "kernelspec": {
   "display_name": "venv",
   "language": "python",
   "name": "python3"
  },
  "language_info": {
   "codemirror_mode": {
    "name": "ipython",
    "version": 3
   },
   "file_extension": ".py",
   "mimetype": "text/x-python",
   "name": "python",
   "nbconvert_exporter": "python",
   "pygments_lexer": "ipython3",
   "version": "3.9.0"
  }
 },
 "nbformat": 4,
 "nbformat_minor": 4
}
