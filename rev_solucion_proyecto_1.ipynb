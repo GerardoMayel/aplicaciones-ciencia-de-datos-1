{
  "cells": [
    {
      "cell_type": "code",
      "execution_count": 1,
      "metadata": {
        "colab": {
          "base_uri": "https://localhost:8080/"
        },
        "id": "gYPQJ83_fjoC",
        "outputId": "baaea3cf-9c28-49dd-9855-9b1c55c675c5"
      },
      "outputs": [
        {
          "name": "stdout",
          "output_type": "stream",
          "text": [
            "Requirement already satisfied: boto3 in ./venv/lib/python3.9/site-packages (1.35.44)\n",
            "Requirement already satisfied: botocore<1.36.0,>=1.35.44 in ./venv/lib/python3.9/site-packages (from boto3) (1.35.44)\n",
            "Requirement already satisfied: jmespath<2.0.0,>=0.7.1 in ./venv/lib/python3.9/site-packages (from boto3) (1.0.1)\n",
            "Requirement already satisfied: s3transfer<0.11.0,>=0.10.0 in ./venv/lib/python3.9/site-packages (from boto3) (0.10.3)\n",
            "Requirement already satisfied: python-dateutil<3.0.0,>=2.1 in ./venv/lib/python3.9/site-packages (from botocore<1.36.0,>=1.35.44->boto3) (2.9.0.post0)\n",
            "Requirement already satisfied: urllib3<1.27,>=1.25.4 in ./venv/lib/python3.9/site-packages (from botocore<1.36.0,>=1.35.44->boto3) (1.26.20)\n",
            "Requirement already satisfied: six>=1.5 in ./venv/lib/python3.9/site-packages (from python-dateutil<3.0.0,>=2.1->botocore<1.36.0,>=1.35.44->boto3) (1.16.0)\n",
            "\u001b[31mERROR: Could not find a version that satisfies the requirement pickle (from versions: none)\u001b[0m\u001b[31m\n",
            "\u001b[0m\u001b[31mERROR: No matching distribution found for pickle\u001b[0m\u001b[31m\n",
            "\u001b[0m\u001b[31mERROR: Could not find a version that satisfies the requirement yaml (from versions: none)\u001b[0m\u001b[31m\n",
            "\u001b[0m\u001b[31mERROR: No matching distribution found for yaml\u001b[0m\u001b[31m\n",
            "\u001b[0mRequirement already satisfied: sodapy in ./venv/lib/python3.9/site-packages (2.2.0)\n",
            "Requirement already satisfied: requests>=2.28.1 in ./venv/lib/python3.9/site-packages (from sodapy) (2.32.3)\n",
            "Requirement already satisfied: charset-normalizer<4,>=2 in ./venv/lib/python3.9/site-packages (from requests>=2.28.1->sodapy) (3.4.0)\n",
            "Requirement already satisfied: idna<4,>=2.5 in ./venv/lib/python3.9/site-packages (from requests>=2.28.1->sodapy) (3.10)\n",
            "Requirement already satisfied: urllib3<3,>=1.21.1 in ./venv/lib/python3.9/site-packages (from requests>=2.28.1->sodapy) (1.26.20)\n",
            "Requirement already satisfied: certifi>=2017.4.17 in ./venv/lib/python3.9/site-packages (from requests>=2.28.1->sodapy) (2024.8.30)\n"
          ]
        }
      ],
      "source": [
        "!pip install boto3\n",
        "!pip install pickle\n",
        "!pip install yaml\n",
        "!pip install sodapy"
      ]
    },
    {
      "cell_type": "code",
      "execution_count": 2,
      "metadata": {
        "id": "rV3MMdpAfWvT"
      },
      "outputs": [],
      "source": [
        "import pandas as pd\n",
        "import numpy as np\n",
        "import matplotlib.pyplot as plt\n",
        "import seaborn as sns\n",
        "import yaml\n",
        "import pickle\n",
        "import boto3\n",
        "\n",
        "from datetime import date\n",
        "from sodapy import Socrata"
      ]
    },
    {
      "cell_type": "code",
      "execution_count": 3,
      "metadata": {
        "id": "9Z-54nM-fWvV"
      },
      "outputs": [],
      "source": [
        "with open('credentials.yaml', 'r') as f:\n",
        "    config = yaml.safe_load(f)\n",
        "\n",
        "token = config['api_chicago']['app_token']\n",
        "username = config['api_chicago']['username']\n",
        "password = config['api_chicago']['password']\n",
        "matricula = config['iexe']['matricula']"
      ]
    },
    {
      "cell_type": "code",
      "execution_count": 4,
      "metadata": {
        "id": "S_nDzhCIfWvW"
      },
      "outputs": [],
      "source": [
        "# code for dataset of food inspections\n",
        "chicago_dataset = \"4ijn-s7e5\""
      ]
    },
    {
      "cell_type": "markdown",
      "metadata": {
        "id": "dQeHX0kEfWvW"
      },
      "source": [
        "### 1. Función get_client"
      ]
    },
    {
      "cell_type": "code",
      "execution_count": 5,
      "metadata": {
        "id": "Kb9D2LTLfWvi"
      },
      "outputs": [],
      "source": [
        "def get_client():\n",
        "    client = Socrata(\"data.cityofchicago.org\", \n",
        "                     token,\n",
        "                     username=username,\n",
        "                     password=password)\n",
        "    \n",
        "    return client"
      ]
    },
    {
      "cell_type": "markdown",
      "metadata": {
        "id": "PWXb51JCfWvj"
      },
      "source": [
        "### 2. Ingesta inicial\n",
        "\n",
        "Bajar los datos de la API de inspecciones de establecimientos de comida. "
      ]
    },
    {
      "cell_type": "code",
      "execution_count": 6,
      "metadata": {
        "id": "OueVaiU7fWvj"
      },
      "outputs": [],
      "source": [
        "def ingesta_inicial(chicago_dataset, client, limit):\n",
        "    datasets = client.get(chicago_dataset, limit=limit, offset=0, order='inspection_date')\n",
        "    \n",
        "    return datasets"
      ]
    },
    {
      "cell_type": "code",
      "execution_count": 8,
      "metadata": {
        "id": "qMxZ1RwyfWvk"
      },
      "outputs": [],
      "source": [
        "client = get_client()\n",
        "datasets = ingesta_inicial(chicago_dataset, client, 300000)"
      ]
    },
    {
      "cell_type": "code",
      "execution_count": 9,
      "metadata": {
        "colab": {
          "base_uri": "https://localhost:8080/"
        },
        "id": "c9zrpu_AfWvk",
        "outputId": "6d8df319-c12b-466f-e44a-c3a66b1cc210"
      },
      "outputs": [
        {
          "data": {
            "text/plain": [
              "249327"
            ]
          },
          "execution_count": 9,
          "metadata": {},
          "output_type": "execute_result"
        }
      ],
      "source": [
        "len(datasets)"
      ]
    },
    {
      "cell_type": "code",
      "execution_count": 10,
      "metadata": {
        "colab": {
          "base_uri": "https://localhost:8080/"
        },
        "id": "lMQJw8rXfWvl",
        "outputId": "7bfbca36-9cfd-47c1-c3b8-58fdf4afb7d8"
      },
      "outputs": [
        {
          "data": {
            "text/plain": [
              "{'inspection_id': '52234',\n",
              " 'dba_name': 'Cafe 608',\n",
              " 'aka_name': 'Cafe 608',\n",
              " 'license_': '2013328',\n",
              " 'facility_type': 'Restaurant',\n",
              " 'risk': 'Risk 1 (High)',\n",
              " 'address': '608 W BARRY AVE ',\n",
              " 'city': 'CHICAGO',\n",
              " 'state': 'IL',\n",
              " 'zip': '60657',\n",
              " 'inspection_date': '2010-01-04T00:00:00.000',\n",
              " 'inspection_type': 'License Re-Inspection',\n",
              " 'results': 'Pass',\n",
              " 'latitude': '41.938006880423615',\n",
              " 'longitude': '-87.6447545707008',\n",
              " 'location': {'latitude': '41.938006880423615',\n",
              "  'longitude': '-87.6447545707008'}}"
            ]
          },
          "execution_count": 10,
          "metadata": {},
          "output_type": "execute_result"
        }
      ],
      "source": [
        "datasets[0]"
      ]
    },
    {
      "cell_type": "markdown",
      "metadata": {
        "id": "l_K-SycCfWvm"
      },
      "source": [
        "### 3. Almacenamiento de ingesta inicial"
      ]
    },
    {
      "cell_type": "code",
      "execution_count": 27,
      "metadata": {
        "id": "keCu1yqmfWvm"
      },
      "outputs": [],
      "source": [
        "def guardar_ingesta(bucket, bucket_path, dataset):\n",
        "    session = boto3.Session(\n",
        "        aws_access_key_id = config['s3']['aws_access_key_id'],\n",
        "        aws_secret_access_key = config['s3']['aws_secret_access_key'],\n",
        "        aws_session_token= config['s3']['aws_session_token']\n",
        "    )\n",
        "\n",
        "    s3 = session.resource('s3')\n",
        "    s3.Object(bucket, bucket_path).put(Body=dataset)"
      ]
    },
    {
      "cell_type": "markdown",
      "metadata": {
        "id": "oiVCeUhM5H-C"
      },
      "source": [
        "### 3a. Creación de Bucket\n",
        "##### creamos la variable con la fecha de hoy"
      ]
    },
    {
      "cell_type": "code",
      "execution_count": 15,
      "metadata": {
        "colab": {
          "base_uri": "https://localhost:8080/"
        },
        "id": "TFWOrPayfWvn",
        "outputId": "95330b29-befe-4ea0-e0aa-e4904b823914"
      },
      "outputs": [
        {
          "name": "stdout",
          "output_type": "stream",
          "text": [
            "creando\n"
          ]
        }
      ],
      "source": [
        "TODAY = date.today()\n",
        "if not 'bucket_creado' in locals():\n",
        "  print(\"creando\")\n",
        "  session = boto3.Session(\n",
        "    aws_access_key_id = config['s3']['aws_access_key_id'],\n",
        "    aws_secret_access_key = config['s3']['aws_secret_access_key'],\n",
        "    aws_session_token= config['s3']['aws_session_token']\n",
        "  )\n",
        "  s3 = session.resource('s3')\n",
        "  nombre_bucket = \"aplicaciones-cd-1-\" + config['iexe']['matricula']\n",
        "  s3.create_bucket(Bucket=nombre_bucket)\n",
        "  bucket_creado = True"
      ]
    },
    {
      "cell_type": "code",
      "execution_count": 13,
      "metadata": {
        "id": "TPkrintufWvn"
      },
      "outputs": [],
      "source": [
        "pickle_data = pickle.dumps(datasets)"
      ]
    },
    {
      "cell_type": "code",
      "execution_count": 16,
      "metadata": {
        "id": "9HP9HTqyfWvn"
      },
      "outputs": [],
      "source": [
        "bucket = \"aplicaciones-cd-1-\" + config['iexe']['matricula']\n",
        "key = \"ingesta/inicial/inspecciones-historicas-\" + str(TODAY) + \".pkl\"\n",
        "\n",
        "guardar_ingesta(bucket, key, pickle_data)"
      ]
    },
    {
      "cell_type": "markdown",
      "metadata": {
        "id": "iSGeFi7FfWvo"
      },
      "source": [
        "Guardar el dataset en un pickle en un bucket de s3, el nombre del archivo dete terminar con el día en el que se realizó la ingesta (obtenido de manera dinámica). "
      ]
    },
    {
      "cell_type": "markdown",
      "metadata": {
        "id": "KbQWTKbofWvo"
      },
      "source": [
        "### 4. Ingestas consecutivas"
      ]
    },
    {
      "cell_type": "markdown",
      "metadata": {
        "id": "CoVMjkmhfWvp"
      },
      "source": [
        "La siguiente vez que se ingestan los datos se tendrá que pedir específicamente a partir de la fecha desde la que no tienes datos."
      ]
    },
    {
      "cell_type": "code",
      "execution_count": 17,
      "metadata": {
        "id": "LgCTPsRnfWvp"
      },
      "outputs": [],
      "source": [
        "def ingesta_consecutiva(chicago_dataset, client, fecha, limit):\n",
        "    new_dataset = client.get(chicago_dataset, limit=limit, where=\"inspection_date>='{}'\".format(fecha))\n",
        "    \n",
        "    return new_dataset"
      ]
    },
    {
      "cell_type": "code",
      "execution_count": 18,
      "metadata": {
        "id": "EiTcmrKAfWvp"
      },
      "outputs": [],
      "source": [
        "client = get_client()"
      ]
    },
    {
      "cell_type": "code",
      "execution_count": 19,
      "metadata": {
        "id": "ywvNJUywfWvq"
      },
      "outputs": [],
      "source": [
        "new_dataset = ingesta_consecutiva(chicago_dataset, client, '2020-11-03', 1000)"
      ]
    },
    {
      "cell_type": "code",
      "execution_count": 20,
      "metadata": {
        "colab": {
          "base_uri": "https://localhost:8080/"
        },
        "id": "95975jh8fWvq",
        "outputId": "802aaedf-5589-4d64-d317-8f6ccdafde20"
      },
      "outputs": [
        {
          "data": {
            "text/plain": [
              "{'inspection_id': '2454188',\n",
              " 'dba_name': '63RD AND DREXEL MOBIL',\n",
              " 'aka_name': '63RD AND DREXEL MOBIL/GREAT STEAK',\n",
              " 'license_': '1817156',\n",
              " 'facility_type': 'Restaurant',\n",
              " 'risk': 'Risk 3 (Low)',\n",
              " 'address': '850 E 63RD ST ',\n",
              " 'city': 'CHICAGO',\n",
              " 'state': 'IL',\n",
              " 'zip': '60637',\n",
              " 'inspection_date': '2020-11-03T00:00:00.000',\n",
              " 'inspection_type': 'Canvass',\n",
              " 'results': 'Pass',\n",
              " 'violations': '39. CONTAMINATION PREVENTED DURING FOOD PREPARATION, STORAGE & DISPLAY - Comments: OBSERVED FOOD ITEMS STORED ON FLOOR BEHIND FRONT COUNTER. INSTRUCTED MANAGER TO ELEVATE ALL FOOD ITEMS SIX INCHES OFF FLOOR. | 49. NON-FOOD/FOOD CONTACT SURFACES CLEAN - Comments: OBSERVED RESIDUE ON INTERIOR SURFACES OF ICE MACHINE. INSTRUCTED MANAGER TO CLEAN AND MAINTAIN. | 55. PHYSICAL FACILITIES INSTALLED, MAINTAINED & CLEAN - Comments: OBSERVED DUST, DIRT AND DEBRIS ON FLOORS ALONG WALLS AND CORNERS IN SALES AND REAR STORAGE AREAS. INSTRUCTED MANAGER TO CLEAN AND MAINTAIN.',\n",
              " 'latitude': '41.780547573927414',\n",
              " 'longitude': '-87.60393831024643',\n",
              " 'location': {'latitude': '41.780547573927414',\n",
              "  'longitude': '-87.60393831024643'}}"
            ]
          },
          "execution_count": 20,
          "metadata": {},
          "output_type": "execute_result"
        }
      ],
      "source": [
        "new_dataset[0]"
      ]
    },
    {
      "cell_type": "code",
      "execution_count": 21,
      "metadata": {
        "colab": {
          "base_uri": "https://localhost:8080/"
        },
        "id": "6GojW51cfWvq",
        "outputId": "a1acb6df-bf94-429d-e2dd-5d0bc7f4951d"
      },
      "outputs": [
        {
          "data": {
            "text/plain": [
              "1000"
            ]
          },
          "execution_count": 21,
          "metadata": {},
          "output_type": "execute_result"
        }
      ],
      "source": [
        "len(new_dataset)"
      ]
    },
    {
      "cell_type": "markdown",
      "metadata": {
        "id": "zEm4vGCZfWvr"
      },
      "source": [
        "### 5. Almacenamiento de ingestas consecutivas"
      ]
    },
    {
      "cell_type": "code",
      "execution_count": 22,
      "metadata": {
        "id": "2wKydjBAfWvr"
      },
      "outputs": [],
      "source": [
        "pickled_new_data = pickle.dumps(new_dataset)"
      ]
    },
    {
      "cell_type": "code",
      "execution_count": 25,
      "metadata": {
        "id": "XrwuTpVBfWvr"
      },
      "outputs": [],
      "source": [
        "bucket = \"aplicaciones-cd-1-\" + config['iexe']['matricula']\n",
        "key = \"ingesta/consecutiva/inspecciones-consecutivas-\" + str(TODAY) + \".pkl\"\n",
        "\n",
        "guardar_ingesta(bucket, key, pickled_new_data)"
      ]
    },
    {
      "cell_type": "code",
      "execution_count": null,
      "metadata": {
        "id": "lXcH-W9v38kU"
      },
      "outputs": [],
      "source": []
    }
  ],
  "metadata": {
    "colab": {
      "provenance": []
    },
    "kernelspec": {
      "display_name": "venv",
      "language": "python",
      "name": "python3"
    },
    "language_info": {
      "codemirror_mode": {
        "name": "ipython",
        "version": 3
      },
      "file_extension": ".py",
      "mimetype": "text/x-python",
      "name": "python",
      "nbconvert_exporter": "python",
      "pygments_lexer": "ipython3",
      "version": "3.9.0"
    }
  },
  "nbformat": 4,
  "nbformat_minor": 0
}
