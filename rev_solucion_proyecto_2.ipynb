{
  "cells": [
    {
      "cell_type": "code",
      "execution_count": 2,
      "metadata": {
        "colab": {
          "base_uri": "https://localhost:8080/"
        },
        "id": "flTXead2B05E",
        "outputId": "0733248f-8bdb-4c6e-d9f6-bba318794d1f"
      },
      "outputs": [
        {
          "name": "stdout",
          "output_type": "stream",
          "text": [
            "Requirement already satisfied: boto3 in ./venv/lib/python3.9/site-packages (1.35.44)\n",
            "Requirement already satisfied: botocore<1.36.0,>=1.35.44 in ./venv/lib/python3.9/site-packages (from boto3) (1.35.44)\n",
            "Requirement already satisfied: jmespath<2.0.0,>=0.7.1 in ./venv/lib/python3.9/site-packages (from boto3) (1.0.1)\n",
            "Requirement already satisfied: s3transfer<0.11.0,>=0.10.0 in ./venv/lib/python3.9/site-packages (from boto3) (0.10.3)\n",
            "Requirement already satisfied: python-dateutil<3.0.0,>=2.1 in ./venv/lib/python3.9/site-packages (from botocore<1.36.0,>=1.35.44->boto3) (2.9.0.post0)\n",
            "Requirement already satisfied: urllib3<1.27,>=1.25.4 in ./venv/lib/python3.9/site-packages (from botocore<1.36.0,>=1.35.44->boto3) (1.26.20)\n",
            "Requirement already satisfied: six>=1.5 in ./venv/lib/python3.9/site-packages (from python-dateutil<3.0.0,>=2.1->botocore<1.36.0,>=1.35.44->boto3) (1.16.0)\n",
            "Requirement already satisfied: pyyaml in ./venv/lib/python3.9/site-packages (6.0.2)\n"
          ]
        }
      ],
      "source": [
        "!pip install boto3\n",
        "!pip install pyyaml"
      ]
    },
    {
      "cell_type": "code",
      "execution_count": 3,
      "metadata": {
        "id": "77fcJRu7Bzpj"
      },
      "outputs": [],
      "source": [
        "import pickle\n",
        "import boto3 \n",
        "import yaml\n",
        "import pandas as pd\n",
        "import numpy as np\n",
        "import matplotlib.pyplot as plt\n",
        "import seaborn as sns\n",
        "\n",
        "from datetime import date"
      ]
    },
    {
      "cell_type": "code",
      "execution_count": 4,
      "metadata": {
        "id": "tRlqWkiCBzpl"
      },
      "outputs": [],
      "source": [
        "with open(\"credentials.yaml\", \"r\") as f:\n",
        "    config = yaml.safe_load(f)"
      ]
    },
    {
      "cell_type": "markdown",
      "metadata": {
        "id": "VHKZBKPiBzpm"
      },
      "source": [
        "### 1. Cargar datos históricos de S3"
      ]
    },
    {
      "cell_type": "code",
      "execution_count": 5,
      "metadata": {
        "id": "-wdqTm8ABzpn"
      },
      "outputs": [],
      "source": [
        "def cargar_datos_s3(bucket, bucket_path):\n",
        "    session = boto3.Session(\n",
        "        aws_access_key_id = config['s3']['aws_access_key_id'],\n",
        "        aws_secret_access_key = config['s3']['aws_secret_access_key'],\n",
        "        aws_session_token = config['s3']['aws_session_token']\n",
        "    )\n",
        "\n",
        "    s3 = session.resource('s3')\n",
        "    \n",
        "    obj = s3.Object(bucket, bucket_path).get()['Body'].read()\n",
        "    dataset = pickle.loads(obj)\n",
        "    \n",
        "    return dataset"
      ]
    },
    {
      "cell_type": "code",
      "execution_count": 6,
      "metadata": {
        "id": "_i7-LlHlBzpn"
      },
      "outputs": [],
      "source": [
        "session = boto3.Session(\n",
        "    aws_access_key_id = config['s3']['aws_access_key_id'],\n",
        "    aws_secret_access_key = config['s3']['aws_secret_access_key'],\n",
        "    aws_session_token = config['s3']['aws_session_token']\n",
        ")\n",
        "\n",
        "s3 = session.client('s3')"
      ]
    },
    {
      "cell_type": "code",
      "execution_count": 7,
      "metadata": {
        "id": "84xgsOwFBzpo"
      },
      "outputs": [],
      "source": [
        "bucket = \"aplicaciones-cd-1-\" + config['iexe']['matricula']\n",
        "key = \"ingesta/inicial/\""
      ]
    },
    {
      "cell_type": "code",
      "execution_count": 8,
      "metadata": {
        "id": "PnG0PNCnBzpo"
      },
      "outputs": [],
      "source": [
        "bucket_path = s3.list_objects_v2(Bucket=bucket, Prefix=key)['Contents'][0]['Key']"
      ]
    },
    {
      "cell_type": "code",
      "execution_count": 9,
      "metadata": {
        "colab": {
          "base_uri": "https://localhost:8080/",
          "height": 35
        },
        "id": "o7lW-PK9Bzpo",
        "outputId": "0f50f512-7546-4d73-e3d6-f2b65616b96a"
      },
      "outputs": [
        {
          "data": {
            "text/plain": [
              "'ingesta/inicial/inspecciones-historicas-2024-10-20.pkl'"
            ]
          },
          "execution_count": 9,
          "metadata": {},
          "output_type": "execute_result"
        }
      ],
      "source": [
        "bucket_path"
      ]
    },
    {
      "cell_type": "code",
      "execution_count": 10,
      "metadata": {
        "id": "EoVW9beXBzpp"
      },
      "outputs": [],
      "source": [
        "dataset = cargar_datos_s3(bucket, bucket_path)"
      ]
    },
    {
      "cell_type": "code",
      "execution_count": 11,
      "metadata": {
        "colab": {
          "base_uri": "https://localhost:8080/"
        },
        "id": "Qc3YSlg7Bzpp",
        "outputId": "463301c4-0ce2-48ec-c7e9-b21efcf9127f"
      },
      "outputs": [
        {
          "data": {
            "text/plain": [
              "280438"
            ]
          },
          "execution_count": 11,
          "metadata": {},
          "output_type": "execute_result"
        }
      ],
      "source": [
        "len(dataset)"
      ]
    },
    {
      "cell_type": "markdown",
      "metadata": {
        "id": "hf6OBD9lBzpq"
      },
      "source": [
        "### 2. Transformar datos a DF"
      ]
    },
    {
      "cell_type": "code",
      "execution_count": 18,
      "metadata": {
        "id": "Als-z_b1Bzpq"
      },
      "outputs": [],
      "source": [
        "def transformar_ingesta(dataset):\n",
        "    return pd.DataFrame.from_dict(dataset)"
      ]
    },
    {
      "cell_type": "code",
      "execution_count": 19,
      "metadata": {
        "id": "mxoIQaBJBzpq"
      },
      "outputs": [],
      "source": [
        "df_inspecciones = transformar_ingesta(dataset)"
      ]
    },
    {
      "cell_type": "code",
      "execution_count": 20,
      "metadata": {
        "colab": {
          "base_uri": "https://localhost:8080/"
        },
        "id": "txwi79AABzpr",
        "outputId": "50f80e55-10b9-4014-d1f0-ae163c61301f"
      },
      "outputs": [
        {
          "data": {
            "text/plain": [
              "(249327, 17)"
            ]
          },
          "execution_count": 20,
          "metadata": {},
          "output_type": "execute_result"
        }
      ],
      "source": [
        "df_inspecciones.shape"
      ]
    },
    {
      "cell_type": "code",
      "execution_count": 21,
      "metadata": {
        "colab": {
          "base_uri": "https://localhost:8080/",
          "height": 444
        },
        "id": "P1peTyIyBzpr",
        "outputId": "2694144f-d516-490f-ec64-ab919b8a08bd"
      },
      "outputs": [
        {
          "data": {
            "text/html": [
              "\n",
              "  <div id=\"df-c552cca6-662e-419e-a6cd-30e39482d7af\">\n",
              "    <div class=\"colab-df-container\">\n",
              "      <div>\n",
              "<style scoped>\n",
              "    .dataframe tbody tr th:only-of-type {\n",
              "        vertical-align: middle;\n",
              "    }\n",
              "\n",
              "    .dataframe tbody tr th {\n",
              "        vertical-align: top;\n",
              "    }\n",
              "\n",
              "    .dataframe thead th {\n",
              "        text-align: right;\n",
              "    }\n",
              "</style>\n",
              "<table border=\"1\" class=\"dataframe\">\n",
              "  <thead>\n",
              "    <tr style=\"text-align: right;\">\n",
              "      <th></th>\n",
              "      <th>inspection_id</th>\n",
              "      <th>dba_name</th>\n",
              "      <th>aka_name</th>\n",
              "      <th>license_</th>\n",
              "      <th>facility_type</th>\n",
              "      <th>risk</th>\n",
              "      <th>address</th>\n",
              "      <th>city</th>\n",
              "      <th>state</th>\n",
              "      <th>zip</th>\n",
              "      <th>inspection_date</th>\n",
              "      <th>inspection_type</th>\n",
              "      <th>results</th>\n",
              "      <th>latitude</th>\n",
              "      <th>longitude</th>\n",
              "      <th>location</th>\n",
              "      <th>violations</th>\n",
              "    </tr>\n",
              "  </thead>\n",
              "  <tbody>\n",
              "    <tr>\n",
              "      <th>0</th>\n",
              "      <td>52234</td>\n",
              "      <td>Cafe 608</td>\n",
              "      <td>Cafe 608</td>\n",
              "      <td>2013328</td>\n",
              "      <td>Restaurant</td>\n",
              "      <td>Risk 1 (High)</td>\n",
              "      <td>608 W BARRY AVE</td>\n",
              "      <td>CHICAGO</td>\n",
              "      <td>IL</td>\n",
              "      <td>60657</td>\n",
              "      <td>2010-01-04T00:00:00.000</td>\n",
              "      <td>License Re-Inspection</td>\n",
              "      <td>Pass</td>\n",
              "      <td>41.938006880423615</td>\n",
              "      <td>-87.6447545707008</td>\n",
              "      <td>{'latitude': '41.938006880423615', 'longitude'...</td>\n",
              "      <td>NaN</td>\n",
              "    </tr>\n",
              "    <tr>\n",
              "      <th>1</th>\n",
              "      <td>67733</td>\n",
              "      <td>WOLCOTT'S</td>\n",
              "      <td>TROQUET</td>\n",
              "      <td>1992040</td>\n",
              "      <td>Restaurant</td>\n",
              "      <td>Risk 1 (High)</td>\n",
              "      <td>1834 W MONTROSE AVE</td>\n",
              "      <td>CHICAGO</td>\n",
              "      <td>IL</td>\n",
              "      <td>60613</td>\n",
              "      <td>2010-01-04T00:00:00.000</td>\n",
              "      <td>License Re-Inspection</td>\n",
              "      <td>Pass</td>\n",
              "      <td>41.961605669949854</td>\n",
              "      <td>-87.67596676683779</td>\n",
              "      <td>{'latitude': '41.961605669949854', 'longitude'...</td>\n",
              "      <td>NaN</td>\n",
              "    </tr>\n",
              "    <tr>\n",
              "      <th>2</th>\n",
              "      <td>70269</td>\n",
              "      <td>mr.daniel's</td>\n",
              "      <td>mr.daniel's</td>\n",
              "      <td>1899292</td>\n",
              "      <td>Restaurant</td>\n",
              "      <td>Risk 1 (High)</td>\n",
              "      <td>5645 W BELMONT AVE</td>\n",
              "      <td>CHICAGO</td>\n",
              "      <td>IL</td>\n",
              "      <td>60634</td>\n",
              "      <td>2010-01-04T00:00:00.000</td>\n",
              "      <td>License Re-Inspection</td>\n",
              "      <td>Pass</td>\n",
              "      <td>41.93844282365204</td>\n",
              "      <td>-87.76831838068422</td>\n",
              "      <td>{'latitude': '41.93844282365204', 'longitude':...</td>\n",
              "      <td>NaN</td>\n",
              "    </tr>\n",
              "    <tr>\n",
              "      <th>3</th>\n",
              "      <td>67757</td>\n",
              "      <td>DUNKIN DONUTS/BASKIN-ROBBINS</td>\n",
              "      <td>DUNKIN DONUTS/BASKIN-ROBBINS</td>\n",
              "      <td>1380279</td>\n",
              "      <td>Restaurant</td>\n",
              "      <td>Risk 2 (Medium)</td>\n",
              "      <td>100 W RANDOLPH ST</td>\n",
              "      <td>CHICAGO</td>\n",
              "      <td>IL</td>\n",
              "      <td>60601</td>\n",
              "      <td>2010-01-04T00:00:00.000</td>\n",
              "      <td>Tag Removal</td>\n",
              "      <td>Pass</td>\n",
              "      <td>41.88458626715456</td>\n",
              "      <td>-87.63101044588599</td>\n",
              "      <td>{'latitude': '41.88458626715456', 'longitude':...</td>\n",
              "      <td>NaN</td>\n",
              "    </tr>\n",
              "    <tr>\n",
              "      <th>4</th>\n",
              "      <td>67732</td>\n",
              "      <td>WOLCOTT'S</td>\n",
              "      <td>TROQUET</td>\n",
              "      <td>1992039</td>\n",
              "      <td>Restaurant</td>\n",
              "      <td>Risk 1 (High)</td>\n",
              "      <td>1834 W MONTROSE AVE</td>\n",
              "      <td>CHICAGO</td>\n",
              "      <td>IL</td>\n",
              "      <td>60613</td>\n",
              "      <td>2010-01-04T00:00:00.000</td>\n",
              "      <td>License Re-Inspection</td>\n",
              "      <td>Pass</td>\n",
              "      <td>41.961605669949854</td>\n",
              "      <td>-87.67596676683779</td>\n",
              "      <td>{'latitude': '41.961605669949854', 'longitude'...</td>\n",
              "      <td>NaN</td>\n",
              "    </tr>\n",
              "  </tbody>\n",
              "</table>\n",
              "</div>\n",
              "      <button class=\"colab-df-convert\" onclick=\"convertToInteractive('df-c552cca6-662e-419e-a6cd-30e39482d7af')\"\n",
              "              title=\"Convert this dataframe to an interactive table.\"\n",
              "              style=\"display:none;\">\n",
              "        \n",
              "  <svg xmlns=\"http://www.w3.org/2000/svg\" height=\"24px\"viewBox=\"0 0 24 24\"\n",
              "       width=\"24px\">\n",
              "    <path d=\"M0 0h24v24H0V0z\" fill=\"none\"/>\n",
              "    <path d=\"M18.56 5.44l.94 2.06.94-2.06 2.06-.94-2.06-.94-.94-2.06-.94 2.06-2.06.94zm-11 1L8.5 8.5l.94-2.06 2.06-.94-2.06-.94L8.5 2.5l-.94 2.06-2.06.94zm10 10l.94 2.06.94-2.06 2.06-.94-2.06-.94-.94-2.06-.94 2.06-2.06.94z\"/><path d=\"M17.41 7.96l-1.37-1.37c-.4-.4-.92-.59-1.43-.59-.52 0-1.04.2-1.43.59L10.3 9.45l-7.72 7.72c-.78.78-.78 2.05 0 2.83L4 21.41c.39.39.9.59 1.41.59.51 0 1.02-.2 1.41-.59l7.78-7.78 2.81-2.81c.8-.78.8-2.07 0-2.86zM5.41 20L4 18.59l7.72-7.72 1.47 1.35L5.41 20z\"/>\n",
              "  </svg>\n",
              "      </button>\n",
              "      \n",
              "  <style>\n",
              "    .colab-df-container {\n",
              "      display:flex;\n",
              "      flex-wrap:wrap;\n",
              "      gap: 12px;\n",
              "    }\n",
              "\n",
              "    .colab-df-convert {\n",
              "      background-color: #E8F0FE;\n",
              "      border: none;\n",
              "      border-radius: 50%;\n",
              "      cursor: pointer;\n",
              "      display: none;\n",
              "      fill: #1967D2;\n",
              "      height: 32px;\n",
              "      padding: 0 0 0 0;\n",
              "      width: 32px;\n",
              "    }\n",
              "\n",
              "    .colab-df-convert:hover {\n",
              "      background-color: #E2EBFA;\n",
              "      box-shadow: 0px 1px 2px rgba(60, 64, 67, 0.3), 0px 1px 3px 1px rgba(60, 64, 67, 0.15);\n",
              "      fill: #174EA6;\n",
              "    }\n",
              "\n",
              "    [theme=dark] .colab-df-convert {\n",
              "      background-color: #3B4455;\n",
              "      fill: #D2E3FC;\n",
              "    }\n",
              "\n",
              "    [theme=dark] .colab-df-convert:hover {\n",
              "      background-color: #434B5C;\n",
              "      box-shadow: 0px 1px 3px 1px rgba(0, 0, 0, 0.15);\n",
              "      filter: drop-shadow(0px 1px 2px rgba(0, 0, 0, 0.3));\n",
              "      fill: #FFFFFF;\n",
              "    }\n",
              "  </style>\n",
              "\n",
              "      <script>\n",
              "        const buttonEl =\n",
              "          document.querySelector('#df-c552cca6-662e-419e-a6cd-30e39482d7af button.colab-df-convert');\n",
              "        buttonEl.style.display =\n",
              "          google.colab.kernel.accessAllowed ? 'block' : 'none';\n",
              "\n",
              "        async function convertToInteractive(key) {\n",
              "          const element = document.querySelector('#df-c552cca6-662e-419e-a6cd-30e39482d7af');\n",
              "          const dataTable =\n",
              "            await google.colab.kernel.invokeFunction('convertToInteractive',\n",
              "                                                     [key], {});\n",
              "          if (!dataTable) return;\n",
              "\n",
              "          const docLinkHtml = 'Like what you see? Visit the ' +\n",
              "            '<a target=\"_blank\" href=https://colab.research.google.com/notebooks/data_table.ipynb>data table notebook</a>'\n",
              "            + ' to learn more about interactive tables.';\n",
              "          element.innerHTML = '';\n",
              "          dataTable['output_type'] = 'display_data';\n",
              "          await google.colab.output.renderOutput(dataTable, element);\n",
              "          const docLink = document.createElement('div');\n",
              "          docLink.innerHTML = docLinkHtml;\n",
              "          element.appendChild(docLink);\n",
              "        }\n",
              "      </script>\n",
              "    </div>\n",
              "  </div>\n",
              "  "
            ],
            "text/plain": [
              "  inspection_id                      dba_name                      aka_name  \\\n",
              "0         52234                      Cafe 608                      Cafe 608   \n",
              "1         67733                     WOLCOTT'S                       TROQUET   \n",
              "2         70269                   mr.daniel's                   mr.daniel's   \n",
              "3         67757  DUNKIN DONUTS/BASKIN-ROBBINS  DUNKIN DONUTS/BASKIN-ROBBINS   \n",
              "4         67732                     WOLCOTT'S                       TROQUET   \n",
              "\n",
              "  license_ facility_type             risk               address     city  \\\n",
              "0  2013328    Restaurant    Risk 1 (High)      608 W BARRY AVE   CHICAGO   \n",
              "1  1992040    Restaurant    Risk 1 (High)  1834 W MONTROSE AVE   CHICAGO   \n",
              "2  1899292    Restaurant    Risk 1 (High)   5645 W BELMONT AVE   CHICAGO   \n",
              "3  1380279    Restaurant  Risk 2 (Medium)    100 W RANDOLPH ST   CHICAGO   \n",
              "4  1992039    Restaurant    Risk 1 (High)  1834 W MONTROSE AVE   CHICAGO   \n",
              "\n",
              "  state    zip          inspection_date        inspection_type results  \\\n",
              "0    IL  60657  2010-01-04T00:00:00.000  License Re-Inspection    Pass   \n",
              "1    IL  60613  2010-01-04T00:00:00.000  License Re-Inspection    Pass   \n",
              "2    IL  60634  2010-01-04T00:00:00.000  License Re-Inspection    Pass   \n",
              "3    IL  60601  2010-01-04T00:00:00.000            Tag Removal    Pass   \n",
              "4    IL  60613  2010-01-04T00:00:00.000  License Re-Inspection    Pass   \n",
              "\n",
              "             latitude           longitude  \\\n",
              "0  41.938006880423615   -87.6447545707008   \n",
              "1  41.961605669949854  -87.67596676683779   \n",
              "2   41.93844282365204  -87.76831838068422   \n",
              "3   41.88458626715456  -87.63101044588599   \n",
              "4  41.961605669949854  -87.67596676683779   \n",
              "\n",
              "                                            location violations  \n",
              "0  {'latitude': '41.938006880423615', 'longitude'...        NaN  \n",
              "1  {'latitude': '41.961605669949854', 'longitude'...        NaN  \n",
              "2  {'latitude': '41.93844282365204', 'longitude':...        NaN  \n",
              "3  {'latitude': '41.88458626715456', 'longitude':...        NaN  \n",
              "4  {'latitude': '41.961605669949854', 'longitude'...        NaN  "
            ]
          },
          "execution_count": 21,
          "metadata": {},
          "output_type": "execute_result"
        }
      ],
      "source": [
        "df_inspecciones.head()"
      ]
    },
    {
      "cell_type": "markdown",
      "metadata": {
        "id": "Dp07El1ABzpr"
      },
      "source": [
        "### 3. Identificar faltantes"
      ]
    },
    {
      "cell_type": "code",
      "execution_count": 22,
      "metadata": {
        "id": "DlWkB0AdBzpr"
      },
      "outputs": [],
      "source": [
        "def faltantes(df):\n",
        "    return df.isna().sum()"
      ]
    },
    {
      "cell_type": "code",
      "execution_count": 23,
      "metadata": {
        "colab": {
          "base_uri": "https://localhost:8080/"
        },
        "id": "VT-suAp6Bzps",
        "outputId": "16c2edec-cb83-4972-b939-ee79bb3a0df0"
      },
      "outputs": [
        {
          "data": {
            "text/plain": [
              "inspection_id          0\n",
              "dba_name               0\n",
              "aka_name            2493\n",
              "license_               8\n",
              "facility_type       5038\n",
              "risk                  76\n",
              "address                0\n",
              "city                 176\n",
              "state                 47\n",
              "zip                   80\n",
              "inspection_date        0\n",
              "inspection_type        1\n",
              "results                0\n",
              "latitude             857\n",
              "longitude            857\n",
              "location             857\n",
              "violations         67855\n",
              "dtype: int64"
            ]
          },
          "execution_count": 23,
          "metadata": {},
          "output_type": "execute_result"
        }
      ],
      "source": [
        "faltantes(df_inspecciones)"
      ]
    },
    {
      "cell_type": "markdown",
      "metadata": {
        "id": "2Pk3y_ogBzps"
      },
      "source": [
        "### 4. Eliminar inspecciones que no  tienen latitud o longitud"
      ]
    },
    {
      "cell_type": "code",
      "execution_count": 24,
      "metadata": {
        "id": "9gDKHPiMBzps"
      },
      "outputs": [],
      "source": [
        "def elimina_faltantes_latitud_logintud(cols, df):\n",
        "    for col in cols:\n",
        "        df =  df[df[col].notnull()]\n",
        "    \n",
        "    return df"
      ]
    },
    {
      "cell_type": "code",
      "execution_count": 25,
      "metadata": {
        "id": "AjAC6JshBzps"
      },
      "outputs": [],
      "source": [
        "inspecciones = elimina_faltantes_latitud_logintud(['latitude', 'longitude'], df_inspecciones)"
      ]
    },
    {
      "cell_type": "code",
      "execution_count": 26,
      "metadata": {
        "colab": {
          "base_uri": "https://localhost:8080/"
        },
        "id": "aWc1UmikBzps",
        "outputId": "1307796d-cb76-4313-9cb0-2015653b8488"
      },
      "outputs": [
        {
          "data": {
            "text/plain": [
              "inspection_id          0\n",
              "dba_name               0\n",
              "aka_name            2481\n",
              "license_               8\n",
              "facility_type       5023\n",
              "risk                  74\n",
              "address                0\n",
              "city                 172\n",
              "state                 47\n",
              "zip                   76\n",
              "inspection_date        0\n",
              "inspection_type        1\n",
              "results                0\n",
              "latitude               0\n",
              "longitude              0\n",
              "location               0\n",
              "violations         67626\n",
              "dtype: int64"
            ]
          },
          "execution_count": 26,
          "metadata": {},
          "output_type": "execute_result"
        }
      ],
      "source": [
        "faltantes(inspecciones)"
      ]
    },
    {
      "cell_type": "markdown",
      "metadata": {
        "id": "-765hE4WBzpt"
      },
      "source": [
        "### 5. Imputar faltantes"
      ]
    },
    {
      "cell_type": "code",
      "execution_count": 27,
      "metadata": {
        "id": "PMbzUAsABzpt"
      },
      "outputs": [],
      "source": [
        "def imputar_faltantes(col, value, df):\n",
        "    df[col].fillna(value, inplace=True)"
      ]
    },
    {
      "cell_type": "code",
      "execution_count": 28,
      "metadata": {
        "id": "ey-kvVagBzpt"
      },
      "outputs": [],
      "source": [
        "# license_\n",
        "imputar_faltantes('license_', str(inspecciones.license_.mode()), inspecciones)\n",
        "# zip\n",
        "imputar_faltantes('zip', str(inspecciones.zip.mode()), inspecciones)\n",
        "# state\n",
        "imputar_faltantes('state', str(inspecciones.state.mode()), inspecciones)\n",
        "# facility_type\n",
        "imputar_faltantes('facility_type', str(inspecciones.facility_type.mode()), inspecciones)\n",
        "# risk\n",
        "imputar_faltantes('risk', str(inspecciones.risk.mode()), inspecciones)"
      ]
    },
    {
      "cell_type": "code",
      "execution_count": 29,
      "metadata": {
        "colab": {
          "base_uri": "https://localhost:8080/"
        },
        "id": "iyWQTjKPBzpu",
        "outputId": "ce998f37-8342-4b17-e90b-b433239fd3ed"
      },
      "outputs": [
        {
          "data": {
            "text/plain": [
              "inspection_id          0\n",
              "dba_name               0\n",
              "aka_name            2481\n",
              "license_               0\n",
              "facility_type          0\n",
              "risk                   0\n",
              "address                0\n",
              "city                 172\n",
              "state                  0\n",
              "zip                    0\n",
              "inspection_date        0\n",
              "inspection_type        1\n",
              "results                0\n",
              "latitude               0\n",
              "longitude              0\n",
              "location               0\n",
              "violations         67626\n",
              "dtype: int64"
            ]
          },
          "execution_count": 29,
          "metadata": {},
          "output_type": "execute_result"
        }
      ],
      "source": [
        "faltantes(inspecciones)"
      ]
    },
    {
      "cell_type": "markdown",
      "metadata": {
        "id": "tPyMmb0cBzpu"
      },
      "source": [
        "### 6. Transformación de enteros"
      ]
    },
    {
      "cell_type": "code",
      "execution_count": 30,
      "metadata": {
        "id": "f8ynbyzaBzpu"
      },
      "outputs": [],
      "source": [
        "def transformar_enteros(cols, df):\n",
        "    for element in cols:\n",
        "        df[element] = df[element].astype(int)\n",
        "    \n",
        "    return df"
      ]
    },
    {
      "cell_type": "code",
      "execution_count": 31,
      "metadata": {
        "id": "NuoNcLBmBzpv"
      },
      "outputs": [],
      "source": [
        "inspecciones = transformar_enteros(['inspection_id'], inspecciones)"
      ]
    },
    {
      "cell_type": "code",
      "execution_count": 32,
      "metadata": {
        "colab": {
          "base_uri": "https://localhost:8080/"
        },
        "id": "Q43XM-Z-Bzpv",
        "outputId": "6e670ca0-1f55-4181-fa10-6010bcbecd91"
      },
      "outputs": [
        {
          "data": {
            "text/plain": [
              "inspection_id       int64\n",
              "dba_name           object\n",
              "aka_name           object\n",
              "license_           object\n",
              "facility_type      object\n",
              "risk               object\n",
              "address            object\n",
              "city               object\n",
              "state              object\n",
              "zip                object\n",
              "inspection_date    object\n",
              "inspection_type    object\n",
              "results            object\n",
              "latitude           object\n",
              "longitude          object\n",
              "location           object\n",
              "violations         object\n",
              "dtype: object"
            ]
          },
          "execution_count": 32,
          "metadata": {},
          "output_type": "execute_result"
        }
      ],
      "source": [
        "inspecciones.dtypes"
      ]
    },
    {
      "cell_type": "markdown",
      "metadata": {
        "id": "KaIexftzBzpv"
      },
      "source": [
        "### 7. Transformación flotantes"
      ]
    },
    {
      "cell_type": "code",
      "execution_count": 33,
      "metadata": {
        "id": "VdGLVz7dBzpv"
      },
      "outputs": [],
      "source": [
        "def transformar_flotantes(cols, df):\n",
        "    for col in cols:\n",
        "        df[col] = df[col].astype(float)\n",
        "    \n",
        "    return df"
      ]
    },
    {
      "cell_type": "code",
      "execution_count": 34,
      "metadata": {
        "id": "09yMcJUCBzpv"
      },
      "outputs": [],
      "source": [
        "inspecciones = transformar_flotantes(['latitude', 'longitude'], inspecciones)"
      ]
    },
    {
      "cell_type": "code",
      "execution_count": 35,
      "metadata": {
        "colab": {
          "base_uri": "https://localhost:8080/"
        },
        "id": "kubA3TiWBzpw",
        "outputId": "850f8944-327c-408d-8ba0-15e720f4ce98"
      },
      "outputs": [
        {
          "data": {
            "text/plain": [
              "inspection_id        int64\n",
              "dba_name            object\n",
              "aka_name            object\n",
              "license_            object\n",
              "facility_type       object\n",
              "risk                object\n",
              "address             object\n",
              "city                object\n",
              "state               object\n",
              "zip                 object\n",
              "inspection_date     object\n",
              "inspection_type     object\n",
              "results             object\n",
              "latitude           float64\n",
              "longitude          float64\n",
              "location            object\n",
              "violations          object\n",
              "dtype: object"
            ]
          },
          "execution_count": 35,
          "metadata": {},
          "output_type": "execute_result"
        }
      ],
      "source": [
        "inspecciones.dtypes"
      ]
    },
    {
      "cell_type": "markdown",
      "metadata": {
        "id": "OVqOP_qKBzpw"
      },
      "source": [
        "### 8. Transformaciones fechas"
      ]
    },
    {
      "cell_type": "code",
      "execution_count": 36,
      "metadata": {
        "id": "NUr5M6uHBzpw"
      },
      "outputs": [],
      "source": [
        "def transformar_fechas(cols, df):\n",
        "    for col in cols:\n",
        "        df[col] = pd.to_datetime(df[col])\n",
        "    \n",
        "    return df"
      ]
    },
    {
      "cell_type": "code",
      "execution_count": 37,
      "metadata": {
        "id": "evENOjoDBzpw"
      },
      "outputs": [],
      "source": [
        "inspecciones = transformar_fechas(['inspection_date'], inspecciones)"
      ]
    },
    {
      "cell_type": "code",
      "execution_count": 38,
      "metadata": {
        "colab": {
          "base_uri": "https://localhost:8080/"
        },
        "id": "QkwoESr0Bzpx",
        "outputId": "cb2f208f-bc49-49f6-fd43-398056b9d8b0"
      },
      "outputs": [
        {
          "data": {
            "text/plain": [
              "inspection_id               int64\n",
              "dba_name                   object\n",
              "aka_name                   object\n",
              "license_                   object\n",
              "facility_type              object\n",
              "risk                       object\n",
              "address                    object\n",
              "city                       object\n",
              "state                      object\n",
              "zip                        object\n",
              "inspection_date    datetime64[ns]\n",
              "inspection_type            object\n",
              "results                    object\n",
              "latitude                  float64\n",
              "longitude                 float64\n",
              "location                   object\n",
              "violations                 object\n",
              "dtype: object"
            ]
          },
          "execution_count": 38,
          "metadata": {},
          "output_type": "execute_result"
        }
      ],
      "source": [
        "inspecciones.dtypes"
      ]
    },
    {
      "cell_type": "markdown",
      "metadata": {
        "id": "NqTGg6Q9Bzpx"
      },
      "source": [
        "### 9. Data profiling categorías"
      ]
    },
    {
      "cell_type": "code",
      "execution_count": 39,
      "metadata": {
        "id": "6AU1zWJZBzpx"
      },
      "outputs": [],
      "source": [
        "def data_profiling_string(cols, df):\n",
        "    data_profiling = {}\n",
        "    for col in cols:\n",
        "        data_profiling[col] = {'uniques': df[col].nunique(), \n",
        "                               'prop_uniques': df[col].nunique()/df[col].shape[0],\n",
        "                              'mode': df[col].mode()} \n",
        "\n",
        "    return pd.DataFrame.from_dict(data_profiling)"
      ]
    },
    {
      "cell_type": "code",
      "execution_count": 40,
      "metadata": {
        "colab": {
          "base_uri": "https://localhost:8080/",
          "height": 143
        },
        "id": "PaPn6KFqBzpx",
        "outputId": "50b572da-c099-429c-ef4c-b2fb5e9be530"
      },
      "outputs": [
        {
          "data": {
            "text/html": [
              "\n",
              "  <div id=\"df-f8c12003-4a29-47d3-8a85-7ee7d48557a2\">\n",
              "    <div class=\"colab-df-container\">\n",
              "      <div>\n",
              "<style scoped>\n",
              "    .dataframe tbody tr th:only-of-type {\n",
              "        vertical-align: middle;\n",
              "    }\n",
              "\n",
              "    .dataframe tbody tr th {\n",
              "        vertical-align: top;\n",
              "    }\n",
              "\n",
              "    .dataframe thead th {\n",
              "        text-align: right;\n",
              "    }\n",
              "</style>\n",
              "<table border=\"1\" class=\"dataframe\">\n",
              "  <thead>\n",
              "    <tr style=\"text-align: right;\">\n",
              "      <th></th>\n",
              "      <th>dba_name</th>\n",
              "      <th>aka_name</th>\n",
              "      <th>license_</th>\n",
              "    </tr>\n",
              "  </thead>\n",
              "  <tbody>\n",
              "    <tr>\n",
              "      <th>uniques</th>\n",
              "      <td>30877</td>\n",
              "      <td>29373</td>\n",
              "      <td>42494</td>\n",
              "    </tr>\n",
              "    <tr>\n",
              "      <th>prop_uniques</th>\n",
              "      <td>0.124269</td>\n",
              "      <td>0.118215</td>\n",
              "      <td>0.171023</td>\n",
              "    </tr>\n",
              "    <tr>\n",
              "      <th>mode</th>\n",
              "      <td>0    SUBWAY\n",
              "dtype: object</td>\n",
              "      <td>0    SUBWAY\n",
              "dtype: object</td>\n",
              "      <td>0    0\n",
              "dtype: object</td>\n",
              "    </tr>\n",
              "  </tbody>\n",
              "</table>\n",
              "</div>\n",
              "      <button class=\"colab-df-convert\" onclick=\"convertToInteractive('df-f8c12003-4a29-47d3-8a85-7ee7d48557a2')\"\n",
              "              title=\"Convert this dataframe to an interactive table.\"\n",
              "              style=\"display:none;\">\n",
              "        \n",
              "  <svg xmlns=\"http://www.w3.org/2000/svg\" height=\"24px\"viewBox=\"0 0 24 24\"\n",
              "       width=\"24px\">\n",
              "    <path d=\"M0 0h24v24H0V0z\" fill=\"none\"/>\n",
              "    <path d=\"M18.56 5.44l.94 2.06.94-2.06 2.06-.94-2.06-.94-.94-2.06-.94 2.06-2.06.94zm-11 1L8.5 8.5l.94-2.06 2.06-.94-2.06-.94L8.5 2.5l-.94 2.06-2.06.94zm10 10l.94 2.06.94-2.06 2.06-.94-2.06-.94-.94-2.06-.94 2.06-2.06.94z\"/><path d=\"M17.41 7.96l-1.37-1.37c-.4-.4-.92-.59-1.43-.59-.52 0-1.04.2-1.43.59L10.3 9.45l-7.72 7.72c-.78.78-.78 2.05 0 2.83L4 21.41c.39.39.9.59 1.41.59.51 0 1.02-.2 1.41-.59l7.78-7.78 2.81-2.81c.8-.78.8-2.07 0-2.86zM5.41 20L4 18.59l7.72-7.72 1.47 1.35L5.41 20z\"/>\n",
              "  </svg>\n",
              "      </button>\n",
              "      \n",
              "  <style>\n",
              "    .colab-df-container {\n",
              "      display:flex;\n",
              "      flex-wrap:wrap;\n",
              "      gap: 12px;\n",
              "    }\n",
              "\n",
              "    .colab-df-convert {\n",
              "      background-color: #E8F0FE;\n",
              "      border: none;\n",
              "      border-radius: 50%;\n",
              "      cursor: pointer;\n",
              "      display: none;\n",
              "      fill: #1967D2;\n",
              "      height: 32px;\n",
              "      padding: 0 0 0 0;\n",
              "      width: 32px;\n",
              "    }\n",
              "\n",
              "    .colab-df-convert:hover {\n",
              "      background-color: #E2EBFA;\n",
              "      box-shadow: 0px 1px 2px rgba(60, 64, 67, 0.3), 0px 1px 3px 1px rgba(60, 64, 67, 0.15);\n",
              "      fill: #174EA6;\n",
              "    }\n",
              "\n",
              "    [theme=dark] .colab-df-convert {\n",
              "      background-color: #3B4455;\n",
              "      fill: #D2E3FC;\n",
              "    }\n",
              "\n",
              "    [theme=dark] .colab-df-convert:hover {\n",
              "      background-color: #434B5C;\n",
              "      box-shadow: 0px 1px 3px 1px rgba(0, 0, 0, 0.15);\n",
              "      filter: drop-shadow(0px 1px 2px rgba(0, 0, 0, 0.3));\n",
              "      fill: #FFFFFF;\n",
              "    }\n",
              "  </style>\n",
              "\n",
              "      <script>\n",
              "        const buttonEl =\n",
              "          document.querySelector('#df-f8c12003-4a29-47d3-8a85-7ee7d48557a2 button.colab-df-convert');\n",
              "        buttonEl.style.display =\n",
              "          google.colab.kernel.accessAllowed ? 'block' : 'none';\n",
              "\n",
              "        async function convertToInteractive(key) {\n",
              "          const element = document.querySelector('#df-f8c12003-4a29-47d3-8a85-7ee7d48557a2');\n",
              "          const dataTable =\n",
              "            await google.colab.kernel.invokeFunction('convertToInteractive',\n",
              "                                                     [key], {});\n",
              "          if (!dataTable) return;\n",
              "\n",
              "          const docLinkHtml = 'Like what you see? Visit the ' +\n",
              "            '<a target=\"_blank\" href=https://colab.research.google.com/notebooks/data_table.ipynb>data table notebook</a>'\n",
              "            + ' to learn more about interactive tables.';\n",
              "          element.innerHTML = '';\n",
              "          dataTable['output_type'] = 'display_data';\n",
              "          await google.colab.output.renderOutput(dataTable, element);\n",
              "          const docLink = document.createElement('div');\n",
              "          docLink.innerHTML = docLinkHtml;\n",
              "          element.appendChild(docLink);\n",
              "        }\n",
              "      </script>\n",
              "    </div>\n",
              "  </div>\n",
              "  "
            ],
            "text/plain": [
              "                               dba_name                   aka_name  \\\n",
              "uniques                           30877                      29373   \n",
              "prop_uniques                   0.124269                   0.118215   \n",
              "mode          0    SUBWAY\n",
              "dtype: object  0    SUBWAY\n",
              "dtype: object   \n",
              "\n",
              "                          license_  \n",
              "uniques                      42494  \n",
              "prop_uniques              0.171023  \n",
              "mode          0    0\n",
              "dtype: object  "
            ]
          },
          "execution_count": 40,
          "metadata": {},
          "output_type": "execute_result"
        }
      ],
      "source": [
        "data_profiling_string(['dba_name', 'aka_name', 'license_'], inspecciones)"
      ]
    },
    {
      "cell_type": "markdown",
      "metadata": {
        "id": "gHvOJBG8Bzpx"
      },
      "source": [
        "### 10. Data profiling fechas"
      ]
    },
    {
      "cell_type": "code",
      "execution_count": 41,
      "metadata": {
        "id": "uBUOW3-sBzpy"
      },
      "outputs": [],
      "source": [
        "def data_profiling_fechas(cols, df):\n",
        "    data_profiling = {}\n",
        "    for col in cols:\n",
        "        data_profiling[col] = {'uniques': df[col].nunique(), \n",
        "                               'prop_uniques': df[col].nunique()/df[col].shape[0],\n",
        "                              'fecha_minima': df[col].min(),\n",
        "                              'fecha_maxima': df[col].max(),\n",
        "                              'anios_diferentes': df[col].dt.year.nunique(),\n",
        "                              'dias_diferentes': df[col].max() - df[col].min()} \n",
        "\n",
        "    return pd.DataFrame.from_dict(data_profiling)"
      ]
    },
    {
      "cell_type": "code",
      "execution_count": 42,
      "metadata": {
        "colab": {
          "base_uri": "https://localhost:8080/",
          "height": 238
        },
        "id": "immiWkWRBzpy",
        "outputId": "9edf3903-9392-49b8-86be-facb42e01548"
      },
      "outputs": [
        {
          "data": {
            "text/html": [
              "\n",
              "  <div id=\"df-3c717b44-b1b7-433c-b40a-f6b5243e140e\">\n",
              "    <div class=\"colab-df-container\">\n",
              "      <div>\n",
              "<style scoped>\n",
              "    .dataframe tbody tr th:only-of-type {\n",
              "        vertical-align: middle;\n",
              "    }\n",
              "\n",
              "    .dataframe tbody tr th {\n",
              "        vertical-align: top;\n",
              "    }\n",
              "\n",
              "    .dataframe thead th {\n",
              "        text-align: right;\n",
              "    }\n",
              "</style>\n",
              "<table border=\"1\" class=\"dataframe\">\n",
              "  <thead>\n",
              "    <tr style=\"text-align: right;\">\n",
              "      <th></th>\n",
              "      <th>inspection_date</th>\n",
              "    </tr>\n",
              "  </thead>\n",
              "  <tbody>\n",
              "    <tr>\n",
              "      <th>anios_diferentes</th>\n",
              "      <td>14</td>\n",
              "    </tr>\n",
              "    <tr>\n",
              "      <th>dias_diferentes</th>\n",
              "      <td>4785 days 00:00:00</td>\n",
              "    </tr>\n",
              "    <tr>\n",
              "      <th>fecha_maxima</th>\n",
              "      <td>2023-02-10 00:00:00</td>\n",
              "    </tr>\n",
              "    <tr>\n",
              "      <th>fecha_minima</th>\n",
              "      <td>2010-01-04 00:00:00</td>\n",
              "    </tr>\n",
              "    <tr>\n",
              "      <th>prop_uniques</th>\n",
              "      <td>0.013334</td>\n",
              "    </tr>\n",
              "    <tr>\n",
              "      <th>uniques</th>\n",
              "      <td>3313</td>\n",
              "    </tr>\n",
              "  </tbody>\n",
              "</table>\n",
              "</div>\n",
              "      <button class=\"colab-df-convert\" onclick=\"convertToInteractive('df-3c717b44-b1b7-433c-b40a-f6b5243e140e')\"\n",
              "              title=\"Convert this dataframe to an interactive table.\"\n",
              "              style=\"display:none;\">\n",
              "        \n",
              "  <svg xmlns=\"http://www.w3.org/2000/svg\" height=\"24px\"viewBox=\"0 0 24 24\"\n",
              "       width=\"24px\">\n",
              "    <path d=\"M0 0h24v24H0V0z\" fill=\"none\"/>\n",
              "    <path d=\"M18.56 5.44l.94 2.06.94-2.06 2.06-.94-2.06-.94-.94-2.06-.94 2.06-2.06.94zm-11 1L8.5 8.5l.94-2.06 2.06-.94-2.06-.94L8.5 2.5l-.94 2.06-2.06.94zm10 10l.94 2.06.94-2.06 2.06-.94-2.06-.94-.94-2.06-.94 2.06-2.06.94z\"/><path d=\"M17.41 7.96l-1.37-1.37c-.4-.4-.92-.59-1.43-.59-.52 0-1.04.2-1.43.59L10.3 9.45l-7.72 7.72c-.78.78-.78 2.05 0 2.83L4 21.41c.39.39.9.59 1.41.59.51 0 1.02-.2 1.41-.59l7.78-7.78 2.81-2.81c.8-.78.8-2.07 0-2.86zM5.41 20L4 18.59l7.72-7.72 1.47 1.35L5.41 20z\"/>\n",
              "  </svg>\n",
              "      </button>\n",
              "      \n",
              "  <style>\n",
              "    .colab-df-container {\n",
              "      display:flex;\n",
              "      flex-wrap:wrap;\n",
              "      gap: 12px;\n",
              "    }\n",
              "\n",
              "    .colab-df-convert {\n",
              "      background-color: #E8F0FE;\n",
              "      border: none;\n",
              "      border-radius: 50%;\n",
              "      cursor: pointer;\n",
              "      display: none;\n",
              "      fill: #1967D2;\n",
              "      height: 32px;\n",
              "      padding: 0 0 0 0;\n",
              "      width: 32px;\n",
              "    }\n",
              "\n",
              "    .colab-df-convert:hover {\n",
              "      background-color: #E2EBFA;\n",
              "      box-shadow: 0px 1px 2px rgba(60, 64, 67, 0.3), 0px 1px 3px 1px rgba(60, 64, 67, 0.15);\n",
              "      fill: #174EA6;\n",
              "    }\n",
              "\n",
              "    [theme=dark] .colab-df-convert {\n",
              "      background-color: #3B4455;\n",
              "      fill: #D2E3FC;\n",
              "    }\n",
              "\n",
              "    [theme=dark] .colab-df-convert:hover {\n",
              "      background-color: #434B5C;\n",
              "      box-shadow: 0px 1px 3px 1px rgba(0, 0, 0, 0.15);\n",
              "      filter: drop-shadow(0px 1px 2px rgba(0, 0, 0, 0.3));\n",
              "      fill: #FFFFFF;\n",
              "    }\n",
              "  </style>\n",
              "\n",
              "      <script>\n",
              "        const buttonEl =\n",
              "          document.querySelector('#df-3c717b44-b1b7-433c-b40a-f6b5243e140e button.colab-df-convert');\n",
              "        buttonEl.style.display =\n",
              "          google.colab.kernel.accessAllowed ? 'block' : 'none';\n",
              "\n",
              "        async function convertToInteractive(key) {\n",
              "          const element = document.querySelector('#df-3c717b44-b1b7-433c-b40a-f6b5243e140e');\n",
              "          const dataTable =\n",
              "            await google.colab.kernel.invokeFunction('convertToInteractive',\n",
              "                                                     [key], {});\n",
              "          if (!dataTable) return;\n",
              "\n",
              "          const docLinkHtml = 'Like what you see? Visit the ' +\n",
              "            '<a target=\"_blank\" href=https://colab.research.google.com/notebooks/data_table.ipynb>data table notebook</a>'\n",
              "            + ' to learn more about interactive tables.';\n",
              "          element.innerHTML = '';\n",
              "          dataTable['output_type'] = 'display_data';\n",
              "          await google.colab.output.renderOutput(dataTable, element);\n",
              "          const docLink = document.createElement('div');\n",
              "          docLink.innerHTML = docLinkHtml;\n",
              "          element.appendChild(docLink);\n",
              "        }\n",
              "      </script>\n",
              "    </div>\n",
              "  </div>\n",
              "  "
            ],
            "text/plain": [
              "                      inspection_date\n",
              "anios_diferentes                   14\n",
              "dias_diferentes    4785 days 00:00:00\n",
              "fecha_maxima      2023-02-10 00:00:00\n",
              "fecha_minima      2010-01-04 00:00:00\n",
              "prop_uniques                 0.013334\n",
              "uniques                          3313"
            ]
          },
          "execution_count": 42,
          "metadata": {},
          "output_type": "execute_result"
        }
      ],
      "source": [
        "data_profiling_fechas(['inspection_date'], inspecciones)"
      ]
    },
    {
      "cell_type": "markdown",
      "metadata": {
        "id": "ZfpcclQ7Bzpy"
      },
      "source": [
        "### 11. Guardar datos limpios en s3"
      ]
    },
    {
      "cell_type": "code",
      "execution_count": 43,
      "metadata": {
        "id": "ngYrnMbeBzpy"
      },
      "outputs": [],
      "source": [
        "def guardar_datos_s3(bucket, bucket_path, dataset):\n",
        "    session = boto3.Session(\n",
        "        aws_access_key_id = config['s3']['aws_access_key_id'],\n",
        "        aws_secret_access_key = config['s3']['aws_secret_access_key'],\n",
        "        aws_session_token = config['s3']['aws_session_token']\n",
        "    )\n",
        "\n",
        "    s3 = session.resource('s3')\n",
        "\n",
        "    s3.Object(bucket, bucket_path).put(Body=dataset)"
      ]
    },
    {
      "cell_type": "code",
      "execution_count": 44,
      "metadata": {
        "id": "n4rkYSovBzpy"
      },
      "outputs": [],
      "source": [
        "TODAY = date.today()"
      ]
    },
    {
      "cell_type": "code",
      "execution_count": 45,
      "metadata": {
        "id": "j6SNAqiUBzpy"
      },
      "outputs": [],
      "source": [
        "pickle_data = pickle.dumps(inspecciones)"
      ]
    },
    {
      "cell_type": "code",
      "execution_count": 46,
      "metadata": {
        "id": "RzcRD-LOBzpy"
      },
      "outputs": [],
      "source": [
        "bucket = \"aplicaciones-cd-1-\" + config['iexe']['matricula']\n",
        "key = \"limpieza/datos-limpios-\" + str(TODAY) + \".pkl\"\n",
        "\n",
        "guardar_datos_s3(bucket, key, pickle_data)"
      ]
    }
  ],
  "metadata": {
    "colab": {
      "provenance": []
    },
    "kernelspec": {
      "display_name": "venv",
      "language": "python",
      "name": "python3"
    },
    "language_info": {
      "codemirror_mode": {
        "name": "ipython",
        "version": 3
      },
      "file_extension": ".py",
      "mimetype": "text/x-python",
      "name": "python",
      "nbconvert_exporter": "python",
      "pygments_lexer": "ipython3",
      "version": "3.9.0"
    }
  },
  "nbformat": 4,
  "nbformat_minor": 0
}
