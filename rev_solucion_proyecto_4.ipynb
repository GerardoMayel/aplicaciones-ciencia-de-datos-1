{
  "cells": [
    {
      "cell_type": "code",
      "source": [
        "!pip install boto3"
      ],
      "metadata": {
        "id": "2fb3uXpcJKYv"
      },
      "execution_count": null,
      "outputs": []
    },
    {
      "cell_type": "markdown",
      "metadata": {
        "id": "Dmz9omZeJJI7"
      },
      "source": [
        "## Solución al proyecto 4"
      ]
    },
    {
      "cell_type": "code",
      "execution_count": null,
      "metadata": {
        "id": "mtSAT-4dJJI9"
      },
      "outputs": [],
      "source": [
        "import pandas as pd\n",
        "import numpy as np\n",
        "import seaborn as sns\n",
        "import matplotlib.pyplot as plt\n",
        "import pickle\n",
        "import boto3\n",
        "import yaml\n",
        "\n",
        "from datetime import date\n",
        "from sklearn.compose import ColumnTransformer\n",
        "from sklearn.preprocessing import OneHotEncoder"
      ]
    },
    {
      "cell_type": "markdown",
      "metadata": {
        "id": "HjH4egOjJJI-"
      },
      "source": [
        "### 1. Cargar los datos ingestados del bucket de S3"
      ]
    },
    {
      "cell_type": "code",
      "execution_count": null,
      "metadata": {
        "id": "MN5srs-bJJI-"
      },
      "outputs": [],
      "source": [
        "with open(\"credentials.yaml\", \"r\") as f:\n",
        "    config = yaml.safe_load(f)"
      ]
    },
    {
      "cell_type": "code",
      "execution_count": null,
      "metadata": {
        "id": "hIdKADgyJJI_"
      },
      "outputs": [],
      "source": [
        "def cargar_datos_s3(bucket, bucket_path):\n",
        "    session = boto3.Session(\n",
        "        aws_access_key_id = config['s3']['aws_access_key_id'],\n",
        "        aws_secret_access_key = config['s3']['aws_secret_access_key'],\n",
        "        aws_session_token = config['s3']['aws_session_token']\n",
        "    )\n",
        "\n",
        "    s3 = session.resource('s3')\n",
        "    \n",
        "    obj = s3.Object(bucket, bucket_path).get()['Body'].read()\n",
        "    dataset = pickle.loads(obj)\n",
        "    \n",
        "    return dataset"
      ]
    },
    {
      "cell_type": "code",
      "execution_count": null,
      "metadata": {
        "id": "ffUuts7JJJI_"
      },
      "outputs": [],
      "source": [
        "session = boto3.Session(\n",
        "    aws_access_key_id = config['s3']['aws_access_key_id'],\n",
        "    aws_secret_access_key = config['s3']['aws_secret_access_key'],\n",
        "    aws_session_token = config['s3']['aws_session_token']\n",
        ")\n",
        "\n",
        "s3 = session.client('s3')"
      ]
    },
    {
      "cell_type": "code",
      "execution_count": null,
      "metadata": {
        "id": "HK2Tvyf5JJI_"
      },
      "outputs": [],
      "source": [
        "bucket = \"aplicaciones-cd-1-\" + config['iexe']['matricula']\n",
        "key = \"limpieza/\""
      ]
    },
    {
      "cell_type": "code",
      "execution_count": null,
      "metadata": {
        "id": "4FaadNWwJJI_"
      },
      "outputs": [],
      "source": [
        "bucket_path = s3.list_objects_v2(Bucket=bucket, Prefix=key)['Contents'][-1]['Key']"
      ]
    },
    {
      "cell_type": "code",
      "execution_count": null,
      "metadata": {
        "id": "3tIpIyrTJJJA"
      },
      "outputs": [],
      "source": [
        "bucket_path"
      ]
    },
    {
      "cell_type": "code",
      "execution_count": null,
      "metadata": {
        "id": "2A1PrXp3JJJA"
      },
      "outputs": [],
      "source": [
        "dataset = cargar_datos_s3(bucket, bucket_path)"
      ]
    },
    {
      "cell_type": "markdown",
      "metadata": {
        "id": "lxdq67H_JJJB"
      },
      "source": [
        "### 2. Eliminar observaciones con resultados inválidos "
      ]
    },
    {
      "cell_type": "code",
      "execution_count": null,
      "metadata": {
        "id": "NYlQWnnxJJJB"
      },
      "outputs": [],
      "source": [
        "dataset.head()"
      ]
    },
    {
      "cell_type": "code",
      "execution_count": null,
      "metadata": {
        "id": "wghDD4kXJJJB"
      },
      "outputs": [],
      "source": [
        "dataset.dtypes"
      ]
    },
    {
      "cell_type": "code",
      "execution_count": null,
      "metadata": {
        "id": "hGiwdoKMJJJB"
      },
      "outputs": [],
      "source": [
        "dataset.groupby(['results'], as_index=False)['inspection_id'].count()"
      ]
    },
    {
      "cell_type": "code",
      "execution_count": null,
      "metadata": {
        "id": "sfIIGiTZJJJC"
      },
      "outputs": [],
      "source": [
        "def delete_inspections(df):\n",
        "    return df[df.results.isin(['Fail', 'Not Ready', 'Pass', 'Pass w/ Conditions'])]"
      ]
    },
    {
      "cell_type": "code",
      "execution_count": null,
      "metadata": {
        "id": "bBPODj4xJJJC"
      },
      "outputs": [],
      "source": [
        "inspections_wo_not_valid_results = delete_inspections(dataset)"
      ]
    },
    {
      "cell_type": "code",
      "execution_count": null,
      "metadata": {
        "id": "PmOy8CFHJJJC"
      },
      "outputs": [],
      "source": [
        "inspections_wo_not_valid_results.shape"
      ]
    },
    {
      "cell_type": "code",
      "execution_count": null,
      "metadata": {
        "id": "GGZzFhoyJJJC"
      },
      "outputs": [],
      "source": [
        "inspections_wo_not_valid_results.results.value_counts()"
      ]
    },
    {
      "cell_type": "markdown",
      "metadata": {
        "id": "FSDCbfJkJJJD"
      },
      "source": [
        "### 3. Modificar etiquetas de resultados"
      ]
    },
    {
      "cell_type": "code",
      "execution_count": null,
      "metadata": {
        "id": "81D5im3pJJJD"
      },
      "outputs": [],
      "source": [
        "def transform_result(df):\n",
        "    df.results.mask(df.results.isin(['Pass w/ Conditions', 'Pass']), 'pass', inplace=True)\n",
        "    df.results.mask(df.results.isin(['Fail', 'Not Ready']), 'fail', inplace=True)\n",
        "    \n",
        "    return df"
      ]
    },
    {
      "cell_type": "code",
      "execution_count": null,
      "metadata": {
        "id": "hG5AUmy-JJJD"
      },
      "outputs": [],
      "source": [
        "inspections = transform_result(inspections_wo_not_valid_results)"
      ]
    },
    {
      "cell_type": "code",
      "execution_count": null,
      "metadata": {
        "id": "qE7mDOVYJJJD"
      },
      "outputs": [],
      "source": [
        "inspections.results.value_counts()"
      ]
    },
    {
      "cell_type": "markdown",
      "metadata": {
        "id": "eguMlqTuJJJD"
      },
      "source": [
        "### 4. Modificar etiquetas de riesgo"
      ]
    },
    {
      "cell_type": "code",
      "execution_count": null,
      "metadata": {
        "id": "KPGLrCy7JJJE"
      },
      "outputs": [],
      "source": [
        "def transform_risk(df):\n",
        "    df.risk.mask(df.risk.str.contains('Low'), 'low', inplace=True)\n",
        "    df.risk.mask(df.risk.str.contains('Medium'), 'medium', inplace=True)\n",
        "    df.risk.mask(df.risk.str.contains('High'), 'high', inplace=True)\n",
        "    df.risk.mask(df.risk.str.contains('All'), 'all', inplace=True)\n",
        "    \n",
        "    return df"
      ]
    },
    {
      "cell_type": "code",
      "execution_count": null,
      "metadata": {
        "id": "81tbrl28JJJE"
      },
      "outputs": [],
      "source": [
        "inspections = transform_risk(inspections)"
      ]
    },
    {
      "cell_type": "markdown",
      "metadata": {
        "id": "5uGxQoDjJJJE"
      },
      "source": [
        "### 5. Modificar las etiquetas de facility_type"
      ]
    },
    {
      "cell_type": "code",
      "execution_count": null,
      "metadata": {
        "id": "GVCqm6VGJJJF"
      },
      "outputs": [],
      "source": [
        "def transform_facility(df):\n",
        "    df.facility_type.mask(df.facility_type.str.contains('Restaurant'), 'restaurant', inplace=True)\n",
        "    df.facility_type.mask(df.facility_type.str.contains('Daycare'), 'daycare', inplace=True)\n",
        "    df.facility_type.mask(df.facility_type.str.contains('Mobile Food'), 'mobile food', inplace=True)\n",
        "    \n",
        "    return df"
      ]
    },
    {
      "cell_type": "code",
      "execution_count": null,
      "metadata": {
        "id": "R_5-d7l4JJJF"
      },
      "outputs": [],
      "source": [
        "inspections = transform_facility(inspections)"
      ]
    },
    {
      "cell_type": "code",
      "execution_count": null,
      "metadata": {
        "id": "QoYwbH7hJJJF"
      },
      "outputs": [],
      "source": [
        "aux = inspections.groupby(['facility_type'], as_index=False)['inspection_id']\\\n",
        ".count()\\\n",
        ".rename(columns={'inspection_id': 'count'})\\\n",
        ".sort_values(by=\"count\", ascending=False).head(20)"
      ]
    },
    {
      "cell_type": "code",
      "execution_count": null,
      "metadata": {
        "id": "6kr8uiK5JJJF"
      },
      "outputs": [],
      "source": [
        "def transform_facility_other(df):\n",
        "    df.facility_type.mask(~(df.facility_type.isin(aux.facility_type.values)), 'other', inplace=True)\n",
        "    \n",
        "    return df"
      ]
    },
    {
      "cell_type": "code",
      "execution_count": null,
      "metadata": {
        "id": "HN3_qIdmJJJG"
      },
      "outputs": [],
      "source": [
        "inspections = transform_facility_other(inspections)"
      ]
    },
    {
      "cell_type": "code",
      "execution_count": null,
      "metadata": {
        "id": "nIbBRBDPJJJG"
      },
      "outputs": [],
      "source": [
        "inspections.groupby(['facility_type'], as_index=False)['inspection_id'].count()\\\n",
        ".sort_values(by=\"inspection_id\", ascending=False).head(30)"
      ]
    },
    {
      "cell_type": "markdown",
      "metadata": {
        "id": "jTvoooarJJJG"
      },
      "source": [
        "### 6. Creación de features"
      ]
    },
    {
      "cell_type": "code",
      "execution_count": null,
      "metadata": {
        "id": "IccjNZWGJJJG"
      },
      "outputs": [],
      "source": [
        "def generate_features(df):\n",
        "    df['month'] = df.inspection_date.dt.month\n",
        "    df['year'] = df.inspection_date.dt.year\n",
        "    df['day_of_month'] = df.inspection_date.dt.day\n",
        "    df['week_of_year'] = df.inspection_date.dt.week\n",
        "    df['day_of_week'] = df.inspection_date.dt.dayofweek\n",
        "    # day of week 0: lunes\n",
        "    df['week_day'] = 1\n",
        "    df.week_day.mask(df.week_day.isin([5,6]), 0, inplace=True)\n",
        "    df['weekend'] = 0\n",
        "    df.week_day.mask(df.week_day.isin([5,6]), 1, inplace=True)\n",
        "    \n",
        "    return df"
      ]
    },
    {
      "cell_type": "code",
      "execution_count": null,
      "metadata": {
        "id": "EQHYKCeHJJJH"
      },
      "outputs": [],
      "source": [
        "inspections = generate_features(inspections)"
      ]
    },
    {
      "cell_type": "code",
      "execution_count": null,
      "metadata": {
        "id": "lcPTZuOjJJJH"
      },
      "outputs": [],
      "source": [
        "inspections.head()"
      ]
    },
    {
      "cell_type": "markdown",
      "metadata": {
        "id": "Te36Xt1WJJJH"
      },
      "source": [
        "### 7. Crear la matriz de diseño"
      ]
    },
    {
      "cell_type": "code",
      "execution_count": null,
      "metadata": {
        "id": "QDdmE3aWJJJH"
      },
      "outputs": [],
      "source": [
        "df = inspections[['facility_type', 'risk', 'latitude', 'longitude', 'month', 'year', 'day_of_month',\n",
        "                 'week_of_year', 'day_of_week', 'week_day', 'weekend']]"
      ]
    },
    {
      "cell_type": "code",
      "execution_count": null,
      "metadata": {
        "id": "bUsLPjUcJJJH"
      },
      "outputs": [],
      "source": [
        "transformers = [('one_hot_risk', OneHotEncoder(), ['facility_type']),\n",
        "               ('one_hot_facility_type', OneHotEncoder(), ['risk'])]\n",
        "\n",
        "ct = ColumnTransformer(transformers, remainder=\"passthrough\", n_jobs=-1)"
      ]
    },
    {
      "cell_type": "code",
      "execution_count": null,
      "metadata": {
        "id": "laljNHLQJJJH"
      },
      "outputs": [],
      "source": [
        "fm = ct.fit_transform(df)"
      ]
    },
    {
      "cell_type": "code",
      "execution_count": null,
      "metadata": {
        "id": "oo0Zq7GeJJJI"
      },
      "outputs": [],
      "source": [
        "fm.shape"
      ]
    },
    {
      "cell_type": "code",
      "execution_count": null,
      "metadata": {
        "id": "ET9omQnEJJJI"
      },
      "outputs": [],
      "source": [
        "np.array(ct.get_feature_names_out())"
      ]
    },
    {
      "cell_type": "code",
      "execution_count": null,
      "metadata": {
        "id": "msHRCxRPJJJI"
      },
      "outputs": [],
      "source": [
        "feature_matrix = pd.DataFrame(fm, columns=np.array(ct.get_feature_names()))"
      ]
    },
    {
      "cell_type": "code",
      "execution_count": null,
      "metadata": {
        "id": "pJ5dbbUTJJJI"
      },
      "outputs": [],
      "source": [
        "feature_matrix.head()"
      ]
    },
    {
      "cell_type": "markdown",
      "metadata": {
        "id": "KU9qFgp_JJJI"
      },
      "source": [
        "### 8. Guardar la matriz de diseño"
      ]
    },
    {
      "cell_type": "code",
      "execution_count": null,
      "metadata": {
        "id": "fYOiVBNoJJJI"
      },
      "outputs": [],
      "source": [
        "def save_feature_matrix(bucket, bucket_path, dataset):\n",
        "    session = boto3.Session(\n",
        "        aws_access_key_id = config['s3']['aws_access_key_id'],\n",
        "        aws_secret_access_key = config['s3']['aws_secret_access_key'],\n",
        "        aws_session_token = config['s3']['aws_session_token']\n",
        "    )\n",
        "\n",
        "    s3 = session.resource('s3')\n",
        "\n",
        "    s3.Object(bucket, bucket_path).put(Body=dataset)"
      ]
    },
    {
      "cell_type": "code",
      "execution_count": null,
      "metadata": {
        "id": "oExuGiGaJJJI"
      },
      "outputs": [],
      "source": [
        "TODAY = date.today()"
      ]
    },
    {
      "cell_type": "code",
      "execution_count": null,
      "metadata": {
        "id": "lEr3odBxJJJJ"
      },
      "outputs": [],
      "source": [
        "pickle_data = pickle.dumps(feature_matrix)"
      ]
    },
    {
      "cell_type": "code",
      "execution_count": null,
      "metadata": {
        "id": "o-jC70IyJJJJ"
      },
      "outputs": [],
      "source": [
        "bucket = \"aplicaciones-cd-1-\" + config['iexe']['matricula']\n",
        "key = \"feature-matrix/feature-matrix-\" + str(TODAY) + \".pkl\""
      ]
    },
    {
      "cell_type": "code",
      "execution_count": null,
      "metadata": {
        "id": "pZQ_RVl7JJJJ"
      },
      "outputs": [],
      "source": [
        "save_feature_matrix(bucket, key, pickle_data)"
      ]
    }
  ],
  "metadata": {
    "kernelspec": {
      "display_name": "iexe",
      "language": "python",
      "name": "iexe"
    },
    "language_info": {
      "codemirror_mode": {
        "name": "ipython",
        "version": 3
      },
      "file_extension": ".py",
      "mimetype": "text/x-python",
      "name": "python",
      "nbconvert_exporter": "python",
      "pygments_lexer": "ipython3",
      "version": "3.7.4"
    },
    "colab": {
      "provenance": []
    }
  },
  "nbformat": 4,
  "nbformat_minor": 0
}