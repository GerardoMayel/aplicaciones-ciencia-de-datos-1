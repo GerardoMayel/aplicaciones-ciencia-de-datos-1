{
 "cells": [
  {
   "cell_type": "markdown",
   "metadata": {},
   "source": [
    "# Proyecto 1: Ingestión y Almacenamiento\n",
    "\n",
    "Este notebook implementa la ingestión y almacenamiento de datos de inspecciones de establecimientos de comida de Chicago."
   ]
  },
  {
   "cell_type": "code",
   "execution_count": 1,
   "metadata": {},
   "outputs": [
    {
     "name": "stdout",
     "output_type": "stream",
     "text": [
      "Requirement already satisfied: pandas in ./venv/lib/python3.9/site-packages (2.2.3)\n",
      "Requirement already satisfied: sodapy in ./venv/lib/python3.9/site-packages (2.2.0)\n",
      "Requirement already satisfied: boto3 in ./venv/lib/python3.9/site-packages (1.35.44)\n",
      "Requirement already satisfied: pyyaml in ./venv/lib/python3.9/site-packages (6.0.2)\n",
      "Requirement already satisfied: numpy>=1.22.4 in ./venv/lib/python3.9/site-packages (from pandas) (2.0.2)\n",
      "Requirement already satisfied: python-dateutil>=2.8.2 in ./venv/lib/python3.9/site-packages (from pandas) (2.9.0.post0)\n",
      "Requirement already satisfied: pytz>=2020.1 in ./venv/lib/python3.9/site-packages (from pandas) (2024.2)\n",
      "Requirement already satisfied: tzdata>=2022.7 in ./venv/lib/python3.9/site-packages (from pandas) (2024.2)\n",
      "Requirement already satisfied: requests>=2.28.1 in ./venv/lib/python3.9/site-packages (from sodapy) (2.32.3)\n",
      "Requirement already satisfied: botocore<1.36.0,>=1.35.44 in ./venv/lib/python3.9/site-packages (from boto3) (1.35.44)\n",
      "Requirement already satisfied: jmespath<2.0.0,>=0.7.1 in ./venv/lib/python3.9/site-packages (from boto3) (1.0.1)\n",
      "Requirement already satisfied: s3transfer<0.11.0,>=0.10.0 in ./venv/lib/python3.9/site-packages (from boto3) (0.10.3)\n",
      "Requirement already satisfied: urllib3<1.27,>=1.25.4 in ./venv/lib/python3.9/site-packages (from botocore<1.36.0,>=1.35.44->boto3) (1.26.20)\n",
      "Requirement already satisfied: six>=1.5 in ./venv/lib/python3.9/site-packages (from python-dateutil>=2.8.2->pandas) (1.16.0)\n",
      "Requirement already satisfied: charset-normalizer<4,>=2 in ./venv/lib/python3.9/site-packages (from requests>=2.28.1->sodapy) (3.4.0)\n",
      "Requirement already satisfied: idna<4,>=2.5 in ./venv/lib/python3.9/site-packages (from requests>=2.28.1->sodapy) (3.10)\n",
      "Requirement already satisfied: certifi>=2017.4.17 in ./venv/lib/python3.9/site-packages (from requests>=2.28.1->sodapy) (2024.8.30)\n"
     ]
    }
   ],
   "source": [
    "!pip install pandas sodapy boto3 pyyaml"
   ]
  },
  {
   "cell_type": "code",
   "execution_count": 39,
   "metadata": {},
   "outputs": [],
   "source": [
    "import pandas as pd\n",
    "import yaml\n",
    "import pickle\n",
    "from datetime import date\n",
    "from sodapy import Socrata\n",
    "from botocore.exceptions import ClientError\n",
    "import yaml\n",
    "import boto3\n",
    "from botocore.exceptions import ClientError\n",
    "from datetime import date"
   ]
  },
  {
   "cell_type": "code",
   "execution_count": 20,
   "metadata": {},
   "outputs": [],
   "source": [
    "# Cargamos la configuración del YAML. Esto nos ahorra tener que escribir las credenciales directamente en el código.\n",
    "with open('credentials.yaml', 'r') as f:\n",
    "    config = yaml.safe_load(f)\n",
    "\n",
    "token = config['api_chicago']['app_token']\n",
    "username = config['api_chicago']['username']\n",
    "password = config['api_chicago']['password']\n",
    "matricula = config['iexe']['matricula']\n",
    "\n",
    "# Este es el ID del dataset de inspecciones de comida de Chicago\n",
    "chicago_dataset = \"4ijn-s7e5\""
   ]
  },
  {
   "cell_type": "markdown",
   "metadata": {},
   "source": [
    "## 1. Función get_client"
   ]
  },
  {
   "cell_type": "code",
   "execution_count": 4,
   "metadata": {},
   "outputs": [],
   "source": [
    "def get_client():\n",
    "    # Creamos un cliente para la API de Chicago. Esto es como pedir permiso para acceder a sus datos.\n",
    "    return Socrata(\"data.cityofchicago.org\", \n",
    "                   token,\n",
    "                   username=username,\n",
    "                   password=password)"
   ]
  },
  {
   "cell_type": "markdown",
   "metadata": {},
   "source": [
    "## 2. Ingesta Inicial"
   ]
  },
  {
   "cell_type": "code",
   "execution_count": 5,
   "metadata": {},
   "outputs": [
    {
     "name": "stdout",
     "output_type": "stream",
     "text": [
      "Iniciando la carga inicial de datos...\n",
      "Se obtuvieron 280438 registros en la carga inicial.\n"
     ]
    }
   ],
   "source": [
    "def ingesta_inicial(chicago_dataset, client, limit):\n",
    "    # Aquí hacemos la primera carga grande de datos. Es como llenar un camión con toda la información disponible.\n",
    "    return client.get(chicago_dataset, limit=limit, offset=0, order='inspection_date')\n",
    "\n",
    "client = get_client()\n",
    "print(\"Iniciando la carga inicial de datos...\")\n",
    "datasets = ingesta_inicial(chicago_dataset, client, 300000)\n",
    "print(f\"Se obtuvieron {len(datasets)} registros en la carga inicial.\")"
   ]
  },
  {
   "cell_type": "markdown",
   "metadata": {},
   "source": [
    "## 3. Almacenamiento de Ingesta Inicial"
   ]
  },
  {
   "cell_type": "code",
   "execution_count": 38,
   "metadata": {},
   "outputs": [
    {
     "name": "stdout",
     "output_type": "stream",
     "text": [
      "Información de API Chicago:\n",
      "Username: mcda24a004_gerardo_mayel@iexe.edu.mx\n",
      "App Token: *************************\n",
      "\n",
      "Información de AWS S3:\n",
      "AWS Access Key ID: ********************\n",
      "AWS Secret Access Key: ****************************************\n",
      "AWS Session Token: ********************************************************************************************************************************************************************************************************************************************************************************************************************************************************************************************************************************************************************************************************************************************************************************************************************************************************************************************************************************************************************************************************\n",
      "\n",
      "Matrícula IEXE: mcda24a004\n",
      "Bucket 'aplicaciones-cd-1-mcda24a004' creado exitosamente en la región us-east-1.\n",
      "Bucket 'aplicaciones-cd-1-mcda24a004' listo para usar.\n",
      "Guardando la carga inicial en S3...\n",
      "Datos guardados exitosamente en aplicaciones-cd-1-mcda24a004/ingesta/inicial/inspecciones-historicas-2024-10-20.pkl\n",
      "Datos guardados exitosamente en aplicaciones-cd-1-mcda24a004/ingesta/inicial/inspecciones-historicas-2024-10-20.pkl\n",
      "Región AWS utilizada: us-east-1\n"
     ]
    }
   ],
   "source": [
    "# Leer el archivo de credenciales\n",
    "with open('credentials.yaml', 'r') as file:\n",
    "    credentials = yaml.safe_load(file)\n",
    "\n",
    "# Imprimir información relevante sin comprometer la seguridad\n",
    "print(\"Información de API Chicago:\")\n",
    "print(f\"Username: {credentials['api_chicago']['username']}\")\n",
    "print(f\"App Token: {'*' * len(credentials['api_chicago']['app_token'])}\")\n",
    "\n",
    "print(\"\\nInformación de AWS S3:\")\n",
    "print(f\"AWS Access Key ID: {'*' * len(credentials['s3']['aws_access_key_id'])}\")\n",
    "print(f\"AWS Secret Access Key: {'*' * len(credentials['s3']['aws_secret_access_key'])}\")\n",
    "print(f\"AWS Session Token: {'*' * len(credentials['s3']['aws_session_token']) if credentials['s3']['aws_session_token'] else 'No proporcionado'}\")\n",
    "\n",
    "print(f\"\\nMatrícula IEXE: {credentials['iexe']['matricula']}\")\n",
    "\n",
    "# Configurar el cliente de boto3 con las credenciales\n",
    "boto3.setup_default_session(\n",
    "    aws_access_key_id=credentials['s3']['aws_access_key_id'],\n",
    "    aws_secret_access_key=credentials['s3']['aws_secret_access_key'],\n",
    "    aws_session_token=credentials['s3']['aws_session_token']\n",
    ")\n",
    "\n",
    "# Definir la región (ajusta según sea necesario)\n",
    "AWS_REGION = \"us-east-1\"\n",
    "\n",
    "def crear_bucket_si_no_existe():\n",
    "    s3 = boto3.resource('s3', region_name=AWS_REGION)\n",
    "    bucket_name = f\"aplicaciones-cd-1-{credentials['iexe']['matricula']}\"\n",
    "    try:\n",
    "        if AWS_REGION == \"us-east-1\":\n",
    "            s3.create_bucket(Bucket=bucket_name)\n",
    "        else:\n",
    "            s3.create_bucket(\n",
    "                Bucket=bucket_name,\n",
    "                CreateBucketConfiguration={'LocationConstraint': AWS_REGION}\n",
    "            )\n",
    "        print(f\"Bucket '{bucket_name}' creado exitosamente en la región {AWS_REGION}.\")\n",
    "    except ClientError as e:\n",
    "        error_code = e.response['Error']['Code']\n",
    "        if error_code == 'BucketAlreadyOwnedByYou':\n",
    "            print(f\"El bucket '{bucket_name}' ya existe y te pertenece.\")\n",
    "        elif error_code == 'BucketAlreadyExists':\n",
    "            print(f\"El bucket '{bucket_name}' ya existe, pero no te pertenece. Usando un nombre alternativo.\")\n",
    "            bucket_name = f\"{bucket_name}-{date.today().strftime('%Y%m%d')}\"\n",
    "            s3.create_bucket(Bucket=bucket_name)\n",
    "            print(f\"Bucket alternativo '{bucket_name}' creado exitosamente.\")\n",
    "        else:\n",
    "            print(f\"Error al crear el bucket: {e}\")\n",
    "            return None\n",
    "    return bucket_name\n",
    "\n",
    "def guardar_ingesta(bucket, bucket_path, dataset):\n",
    "    s3 = boto3.resource('s3', region_name=AWS_REGION)\n",
    "    try:\n",
    "        s3.Object(bucket, bucket_path).put(Body=pickle.dumps(dataset))\n",
    "        print(f\"Datos guardados exitosamente en {bucket}/{bucket_path}\")\n",
    "        return True\n",
    "    except ClientError as e:\n",
    "        print(f\"Error al guardar los datos: {e}\")\n",
    "        return False\n",
    "\n",
    "# Código principal\n",
    "TODAY = date.today()\n",
    "bucket_name = crear_bucket_si_no_existe()\n",
    "\n",
    "if bucket_name:\n",
    "    print(f\"Bucket '{bucket_name}' listo para usar.\")\n",
    "    print(\"Guardando la carga inicial en S3...\")\n",
    "    key_inicial = f\"ingesta/inicial/inspecciones-historicas-{TODAY}.pkl\"\n",
    "    if 'datasets' in globals():\n",
    "        if guardar_ingesta(bucket_name, key_inicial, datasets):\n",
    "            print(f\"Datos guardados exitosamente en {bucket_name}/{key_inicial}\")\n",
    "        else:\n",
    "            print(\"No se pudieron guardar los datos en S3.\")\n",
    "    else:\n",
    "        print(\"Error: 'datasets' no está definido. Asegúrate de tener datos para guardar.\")\n",
    "else:\n",
    "    print(\"No se pudo proceder con el guardado de datos debido a problemas con el bucket.\")\n",
    "\n",
    "print(f\"Región AWS utilizada: {AWS_REGION}\")"
   ]
  },
  {
   "cell_type": "markdown",
   "metadata": {},
   "source": [
    "## 4. Ingestas Consecutivas"
   ]
  },
  {
   "cell_type": "code",
   "execution_count": 40,
   "metadata": {},
   "outputs": [
    {
     "name": "stdout",
     "output_type": "stream",
     "text": [
      "Realizando una carga consecutiva de ejemplo...\n",
      "Se obtuvieron 1000 registros en la carga consecutiva.\n"
     ]
    }
   ],
   "source": [
    "def ingesta_consecutiva(chicago_dataset, client, fecha, limit):\n",
    "    # Esto es para cargas posteriores. Sólo tomamos los datos nuevos desde la última vez que revisamos.\n",
    "    return client.get(chicago_dataset, limit=limit, where=f\"inspection_date>='{fecha}'\")\n",
    "\n",
    "print(\"Realizando una carga consecutiva de ejemplo...\")\n",
    "new_dataset = ingesta_consecutiva(chicago_dataset, client, '2023-01-01', 1000)\n",
    "print(f\"Se obtuvieron {len(new_dataset)} registros en la carga consecutiva.\")"
   ]
  },
  {
   "cell_type": "markdown",
   "metadata": {},
   "source": [
    "## 5. Almacenamiento de Ingestas Consecutivas"
   ]
  },
  {
   "cell_type": "code",
   "execution_count": 41,
   "metadata": {},
   "outputs": [
    {
     "name": "stdout",
     "output_type": "stream",
     "text": [
      "Guardando la carga consecutiva en S3...\n",
      "Datos guardados exitosamente en aplicaciones-cd-1-mcda24a004/ingesta/consecutiva/inspecciones-consecutivas-2024-10-20.pkl\n",
      "Nuevos datos guardados en aplicaciones-cd-1-mcda24a004/ingesta/consecutiva/inspecciones-consecutivas-2024-10-20.pkl\n"
     ]
    }
   ],
   "source": [
    "print(\"Guardando la carga consecutiva en S3...\")\n",
    "key_consecutiva = f\"ingesta/consecutiva/inspecciones-consecutivas-{TODAY}.pkl\"\n",
    "guardar_ingesta(bucket_name, key_consecutiva, new_dataset)\n",
    "print(f\"Nuevos datos guardados en {bucket_name}/{key_consecutiva}\")"
   ]
  },
  {
   "cell_type": "markdown",
   "metadata": {},
   "source": [
    "## 6. Verificación de Carga (Plus para demostrar entendimeinto del problema y dar un valor agregado a la solución)"
   ]
  },
  {
   "cell_type": "code",
   "execution_count": 42,
   "metadata": {},
   "outputs": [
    {
     "name": "stdout",
     "output_type": "stream",
     "text": [
      "Verificando la integridad de la carga inicial...\n",
      "Se verificaron 280438 registros en la carga inicial en S3.\n",
      "Verificando la integridad de la carga consecutiva...\n",
      "Se verificaron 1000 registros en la carga consecutiva en S3.\n",
      "Proceso de ingesta y almacenamiento completado.\n"
     ]
    }
   ],
   "source": [
    "def verificar_carga(bucket, bucket_path):\n",
    "    # Esta función es como hacer un conteo rápido para asegurarnos de que todo lo que cargamos está ahí.\n",
    "    s3 = get_s3_resource()\n",
    "    obj = s3.Object(bucket, bucket_path)\n",
    "    data = pickle.loads(obj.get()['Body'].read())\n",
    "    return len(data)\n",
    "\n",
    "print(\"Verificando la integridad de la carga inicial...\")\n",
    "registros_cargados = verificar_carga(bucket_name, key_inicial)\n",
    "print(f\"Se verificaron {registros_cargados} registros en la carga inicial en S3.\")\n",
    "\n",
    "print(\"Verificando la integridad de la carga consecutiva...\")\n",
    "registros_consecutivos = verificar_carga(bucket_name, key_consecutiva)\n",
    "print(f\"Se verificaron {registros_consecutivos} registros en la carga consecutiva en S3.\")\n",
    "\n",
    "print(\"Proceso de ingesta y almacenamiento completado.\")"
   ]
  }
 ],
 "metadata": {
  "kernelspec": {
   "display_name": "Python 3",
   "language": "python",
   "name": "python3"
  },
  "language_info": {
   "codemirror_mode": {
    "name": "ipython",
    "version": 3
   },
   "file_extension": ".py",
   "mimetype": "text/x-python",
   "name": "python",
   "nbconvert_exporter": "python",
   "pygments_lexer": "ipython3",
   "version": "3.9.0"
  }
 },
 "nbformat": 4,
 "nbformat_minor": 4
}
